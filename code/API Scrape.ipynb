{
 "cells": [
  {
   "cell_type": "markdown",
   "id": "1f5621f7",
   "metadata": {},
   "source": [
    "### Imports"
   ]
  },
  {
   "cell_type": "code",
   "execution_count": 1,
   "id": "6e95af6b",
   "metadata": {},
   "outputs": [],
   "source": [
    "import pandas as pd\n",
    "import numpy as np\n",
    "import requests\n",
    "import time"
   ]
  },
  {
   "cell_type": "markdown",
   "id": "c513ed95",
   "metadata": {},
   "source": [
    "### API"
   ]
  },
  {
   "cell_type": "code",
   "execution_count": 2,
   "id": "79937245",
   "metadata": {},
   "outputs": [],
   "source": [
    "subreddits = ('CFB', 'CollegeBasketball')\n",
    "\n",
    "for subreddit in subreddits:    \n",
    "    for i in range(50):\n",
    "        base_url = 'https://api.pushshift.io/reddit/search/' \n",
    "        if i == 0:\n",
    "            params = {\n",
    "                'subreddit': subreddit,\n",
    "                'size': 50\n",
    "            }\n",
    "        else:\n",
    "            earliest_date = df['created_utc'].values[-1]\n",
    "            params['before'] = earliest_date\n",
    "        res = requests.get(base_url + 'submission/', params = params)\n",
    "        data = res.json()\n",
    "        if i == 0:\n",
    "            df = pd.DataFrame(data['data']) \n",
    "        else:\n",
    "            df = pd.concat([df, pd.DataFrame(data['data'])], ignore_index = True)\n",
    "        time.sleep(3)\n",
    "    if subreddit == 'CFB':\n",
    "        df.to_csv('../datasets/subreddit_cfb', index = False)\n",
    "    else:\n",
    "        df.to_csv('../datasets/subreddit_cbball', index = False)"
   ]
  },
  {
   "cell_type": "code",
   "execution_count": 3,
   "id": "4a18133c",
   "metadata": {
    "scrolled": true
   },
   "outputs": [
    {
     "name": "stdout",
     "output_type": "stream",
     "text": [
      "(2500, 82)\n"
     ]
    }
   ],
   "source": [
    "df_cfb = pd.read_csv('../datasets/subreddit_cfb')\n",
    "df_cfb.drop_duplicates(inplace = True)\n",
    "print(df_cfb.shape)"
   ]
  },
  {
   "cell_type": "code",
   "execution_count": 4,
   "id": "14e33742",
   "metadata": {},
   "outputs": [
    {
     "name": "stdout",
     "output_type": "stream",
     "text": [
      "(2500, 82)\n"
     ]
    }
   ],
   "source": [
    "df_bball = pd.read_csv('../datasets/subreddit_cbball')\n",
    "df_bball.drop_duplicates(inplace = True)\n",
    "print(df_bball.shape)"
   ]
  }
 ],
 "metadata": {
  "kernelspec": {
   "display_name": "Python 3",
   "language": "python",
   "name": "python3"
  },
  "language_info": {
   "codemirror_mode": {
    "name": "ipython",
    "version": 3
   },
   "file_extension": ".py",
   "mimetype": "text/x-python",
   "name": "python",
   "nbconvert_exporter": "python",
   "pygments_lexer": "ipython3",
   "version": "3.8.8"
  }
 },
 "nbformat": 4,
 "nbformat_minor": 5
}
