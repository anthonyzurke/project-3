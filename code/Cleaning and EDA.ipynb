{
 "cells": [
  {
   "cell_type": "markdown",
   "id": "3db75931",
   "metadata": {},
   "source": [
    "### Libraries"
   ]
  },
  {
   "cell_type": "code",
   "execution_count": 1,
   "id": "4fe17729",
   "metadata": {},
   "outputs": [],
   "source": [
    "import numpy as np\n",
    "import pandas as pd\n",
    "import matplotlib.pyplot as plt\n",
    "import seaborn as sns\n",
    "import re\n",
    "\n",
    "from sklearn.feature_extraction.text import CountVectorizer\n",
    "from sklearn.pipeline import Pipeline\n",
    "\n",
    "from nltk.stem import PorterStemmer, WordNetLemmatizer\n",
    "# from nltk.tokenize import word_tokenize\n",
    "\n",
    "import warnings\n",
    "warnings.filterwarnings('ignore')"
   ]
  },
  {
   "cell_type": "markdown",
   "id": "249a24da",
   "metadata": {},
   "source": [
    "### Data"
   ]
  },
  {
   "cell_type": "code",
   "execution_count": 2,
   "id": "5f5b9c49",
   "metadata": {},
   "outputs": [
    {
     "name": "stdout",
     "output_type": "stream",
     "text": [
      "(2500, 3)\n"
     ]
    },
    {
     "data": {
      "text/html": [
       "<div>\n",
       "<style scoped>\n",
       "    .dataframe tbody tr th:only-of-type {\n",
       "        vertical-align: middle;\n",
       "    }\n",
       "\n",
       "    .dataframe tbody tr th {\n",
       "        vertical-align: top;\n",
       "    }\n",
       "\n",
       "    .dataframe thead th {\n",
       "        text-align: right;\n",
       "    }\n",
       "</style>\n",
       "<table border=\"1\" class=\"dataframe\">\n",
       "  <thead>\n",
       "    <tr style=\"text-align: right;\">\n",
       "      <th></th>\n",
       "      <th>selftext</th>\n",
       "      <th>subreddit</th>\n",
       "      <th>title</th>\n",
       "    </tr>\n",
       "  </thead>\n",
       "  <tbody>\n",
       "    <tr>\n",
       "      <th>0</th>\n",
       "      <td>I have seen several times during all the re-al...</td>\n",
       "      <td>CFB</td>\n",
       "      <td>How do research budgets impact conferences?</td>\n",
       "    </tr>\n",
       "    <tr>\n",
       "      <th>1</th>\n",
       "      <td>[removed]</td>\n",
       "      <td>CFB</td>\n",
       "      <td>Is there a chance Pac12 can just kick out WSU?...</td>\n",
       "    </tr>\n",
       "    <tr>\n",
       "      <th>2</th>\n",
       "      <td>NaN</td>\n",
       "      <td>CFB</td>\n",
       "      <td>[Sam Block] - The last time Michigan beat Ohio...</td>\n",
       "    </tr>\n",
       "    <tr>\n",
       "      <th>3</th>\n",
       "      <td>[removed]</td>\n",
       "      <td>CFB</td>\n",
       "      <td>Rename the Big Ten (which has 14 members) and ...</td>\n",
       "    </tr>\n",
       "    <tr>\n",
       "      <th>4</th>\n",
       "      <td>NaN</td>\n",
       "      <td>CFB</td>\n",
       "      <td>Nick Saban on Jahleel Billingsley, team: “This...</td>\n",
       "    </tr>\n",
       "  </tbody>\n",
       "</table>\n",
       "</div>"
      ],
      "text/plain": [
       "                                            selftext subreddit  \\\n",
       "0  I have seen several times during all the re-al...       CFB   \n",
       "1                                          [removed]       CFB   \n",
       "2                                                NaN       CFB   \n",
       "3                                          [removed]       CFB   \n",
       "4                                                NaN       CFB   \n",
       "\n",
       "                                               title  \n",
       "0        How do research budgets impact conferences?  \n",
       "1  Is there a chance Pac12 can just kick out WSU?...  \n",
       "2  [Sam Block] - The last time Michigan beat Ohio...  \n",
       "3  Rename the Big Ten (which has 14 members) and ...  \n",
       "4  Nick Saban on Jahleel Billingsley, team: “This...  "
      ]
     },
     "execution_count": 2,
     "metadata": {},
     "output_type": "execute_result"
    }
   ],
   "source": [
    "df_cfb = pd.read_csv('../datasets/subreddit_cfb', usecols = ['title', 'subreddit', 'selftext'])\n",
    "print(df_cfb.shape)\n",
    "df_cfb.head()"
   ]
  },
  {
   "cell_type": "code",
   "execution_count": 3,
   "id": "63545f49",
   "metadata": {},
   "outputs": [
    {
     "name": "stdout",
     "output_type": "stream",
     "text": [
      "(2500, 3)\n"
     ]
    },
    {
     "data": {
      "text/html": [
       "<div>\n",
       "<style scoped>\n",
       "    .dataframe tbody tr th:only-of-type {\n",
       "        vertical-align: middle;\n",
       "    }\n",
       "\n",
       "    .dataframe tbody tr th {\n",
       "        vertical-align: top;\n",
       "    }\n",
       "\n",
       "    .dataframe thead th {\n",
       "        text-align: right;\n",
       "    }\n",
       "</style>\n",
       "<table border=\"1\" class=\"dataframe\">\n",
       "  <thead>\n",
       "    <tr style=\"text-align: right;\">\n",
       "      <th></th>\n",
       "      <th>selftext</th>\n",
       "      <th>subreddit</th>\n",
       "      <th>title</th>\n",
       "    </tr>\n",
       "  </thead>\n",
       "  <tbody>\n",
       "    <tr>\n",
       "      <th>0</th>\n",
       "      <td>***The Massachusetts Showdown***\\n\\nIn this se...</td>\n",
       "      <td>CollegeBasketball</td>\n",
       "      <td>The Intra-State Showdown: Massachusetts</td>\n",
       "    </tr>\n",
       "    <tr>\n",
       "      <th>1</th>\n",
       "      <td>***The Maryland Showdown***\\n\\nIn this series,...</td>\n",
       "      <td>CollegeBasketball</td>\n",
       "      <td>The Intra-State Showdown: Maryland</td>\n",
       "    </tr>\n",
       "    <tr>\n",
       "      <th>2</th>\n",
       "      <td>***The Louisiana Showdown***\\n\\nIn this series...</td>\n",
       "      <td>CollegeBasketball</td>\n",
       "      <td>The Intra-State Showdown: Louisiana</td>\n",
       "    </tr>\n",
       "    <tr>\n",
       "      <th>3</th>\n",
       "      <td>B10 has 14 members, B12 has 8. The other power...</td>\n",
       "      <td>CollegeBasketball</td>\n",
       "      <td>Rename the Big Ten and Big 12</td>\n",
       "    </tr>\n",
       "    <tr>\n",
       "      <th>4</th>\n",
       "      <td>NaN</td>\n",
       "      <td>CollegeBasketball</td>\n",
       "      <td>2020 NBA Mock Draft (First Round)</td>\n",
       "    </tr>\n",
       "  </tbody>\n",
       "</table>\n",
       "</div>"
      ],
      "text/plain": [
       "                                            selftext          subreddit  \\\n",
       "0  ***The Massachusetts Showdown***\\n\\nIn this se...  CollegeBasketball   \n",
       "1  ***The Maryland Showdown***\\n\\nIn this series,...  CollegeBasketball   \n",
       "2  ***The Louisiana Showdown***\\n\\nIn this series...  CollegeBasketball   \n",
       "3  B10 has 14 members, B12 has 8. The other power...  CollegeBasketball   \n",
       "4                                                NaN  CollegeBasketball   \n",
       "\n",
       "                                     title  \n",
       "0  The Intra-State Showdown: Massachusetts  \n",
       "1       The Intra-State Showdown: Maryland  \n",
       "2      The Intra-State Showdown: Louisiana  \n",
       "3            Rename the Big Ten and Big 12  \n",
       "4        2020 NBA Mock Draft (First Round)  "
      ]
     },
     "execution_count": 3,
     "metadata": {},
     "output_type": "execute_result"
    }
   ],
   "source": [
    "df_bball = pd.read_csv('../datasets/subreddit_cbball', usecols = ['title', 'subreddit', 'selftext'])\n",
    "print(df_bball.shape)\n",
    "df_bball.head()"
   ]
  },
  {
   "cell_type": "code",
   "execution_count": 4,
   "id": "c1cfd6e8",
   "metadata": {},
   "outputs": [
    {
     "name": "stdout",
     "output_type": "stream",
     "text": [
      "(5000, 3)\n"
     ]
    },
    {
     "data": {
      "text/html": [
       "<div>\n",
       "<style scoped>\n",
       "    .dataframe tbody tr th:only-of-type {\n",
       "        vertical-align: middle;\n",
       "    }\n",
       "\n",
       "    .dataframe tbody tr th {\n",
       "        vertical-align: top;\n",
       "    }\n",
       "\n",
       "    .dataframe thead th {\n",
       "        text-align: right;\n",
       "    }\n",
       "</style>\n",
       "<table border=\"1\" class=\"dataframe\">\n",
       "  <thead>\n",
       "    <tr style=\"text-align: right;\">\n",
       "      <th></th>\n",
       "      <th>selftext</th>\n",
       "      <th>subreddit</th>\n",
       "      <th>title</th>\n",
       "    </tr>\n",
       "  </thead>\n",
       "  <tbody>\n",
       "    <tr>\n",
       "      <th>0</th>\n",
       "      <td>I have seen several times during all the re-al...</td>\n",
       "      <td>CFB</td>\n",
       "      <td>How do research budgets impact conferences?</td>\n",
       "    </tr>\n",
       "    <tr>\n",
       "      <th>1</th>\n",
       "      <td>[removed]</td>\n",
       "      <td>CFB</td>\n",
       "      <td>Is there a chance Pac12 can just kick out WSU?...</td>\n",
       "    </tr>\n",
       "    <tr>\n",
       "      <th>2</th>\n",
       "      <td>NaN</td>\n",
       "      <td>CFB</td>\n",
       "      <td>[Sam Block] - The last time Michigan beat Ohio...</td>\n",
       "    </tr>\n",
       "    <tr>\n",
       "      <th>3</th>\n",
       "      <td>[removed]</td>\n",
       "      <td>CFB</td>\n",
       "      <td>Rename the Big Ten (which has 14 members) and ...</td>\n",
       "    </tr>\n",
       "    <tr>\n",
       "      <th>4</th>\n",
       "      <td>NaN</td>\n",
       "      <td>CFB</td>\n",
       "      <td>Nick Saban on Jahleel Billingsley, team: “This...</td>\n",
       "    </tr>\n",
       "  </tbody>\n",
       "</table>\n",
       "</div>"
      ],
      "text/plain": [
       "                                            selftext subreddit  \\\n",
       "0  I have seen several times during all the re-al...       CFB   \n",
       "1                                          [removed]       CFB   \n",
       "2                                                NaN       CFB   \n",
       "3                                          [removed]       CFB   \n",
       "4                                                NaN       CFB   \n",
       "\n",
       "                                               title  \n",
       "0        How do research budgets impact conferences?  \n",
       "1  Is there a chance Pac12 can just kick out WSU?...  \n",
       "2  [Sam Block] - The last time Michigan beat Ohio...  \n",
       "3  Rename the Big Ten (which has 14 members) and ...  \n",
       "4  Nick Saban on Jahleel Billingsley, team: “This...  "
      ]
     },
     "execution_count": 4,
     "metadata": {},
     "output_type": "execute_result"
    }
   ],
   "source": [
    "df = pd.concat([df_cfb, df_bball])\n",
    "print(df.shape)\n",
    "df.head()"
   ]
  },
  {
   "cell_type": "markdown",
   "id": "2d43604a",
   "metadata": {},
   "source": [
    "### Data Cleaning"
   ]
  },
  {
   "cell_type": "code",
   "execution_count": 5,
   "id": "7ec08995",
   "metadata": {
    "scrolled": true
   },
   "outputs": [
    {
     "name": "stdout",
     "output_type": "stream",
     "text": [
      "<class 'pandas.core.frame.DataFrame'>\n",
      "Int64Index: 5000 entries, 0 to 2499\n",
      "Data columns (total 3 columns):\n",
      " #   Column     Non-Null Count  Dtype \n",
      "---  ------     --------------  ----- \n",
      " 0   selftext   2362 non-null   object\n",
      " 1   subreddit  5000 non-null   object\n",
      " 2   title      4999 non-null   object\n",
      "dtypes: object(3)\n",
      "memory usage: 156.2+ KB\n"
     ]
    }
   ],
   "source": [
    "df.info()"
   ]
  },
  {
   "cell_type": "code",
   "execution_count": 6,
   "id": "2f3b4bd2",
   "metadata": {},
   "outputs": [
    {
     "data": {
      "text/plain": [
       "0    2500\n",
       "1    2500\n",
       "Name: subreddit, dtype: int64"
      ]
     },
     "execution_count": 6,
     "metadata": {},
     "output_type": "execute_result"
    }
   ],
   "source": [
    "# College Football is 0 and College Basketball is 1\n",
    "df['subreddit'] = df['subreddit'].map({'CFB': 0, 'CollegeBasketball': 1})\n",
    "df['subreddit'].value_counts()"
   ]
  },
  {
   "cell_type": "code",
   "execution_count": 7,
   "id": "85eb0da4",
   "metadata": {},
   "outputs": [],
   "source": [
    "df['selftext'] = df['selftext'].map(lambda cell: np.nan if cell == '[removed]' else str())\n",
    "df.fillna('', inplace = True)"
   ]
  },
  {
   "cell_type": "code",
   "execution_count": 8,
   "id": "1d7f65e7",
   "metadata": {},
   "outputs": [],
   "source": [
    "df['post'] = df['title'] + ' ' + df['selftext']\n",
    "df['post_length'] = df['post'].str.len()\n",
    "df['post_word_count'] = df['post'].str.count(' ') + 1"
   ]
  },
  {
   "cell_type": "code",
   "execution_count": 9,
   "id": "3b3f50c6",
   "metadata": {},
   "outputs": [],
   "source": [
    "# text cleaning\n",
    "#df['post'] = df['post'].apply(lambda x: re.sub(r'http\\S+', '', x))"
   ]
  },
  {
   "cell_type": "code",
   "execution_count": 10,
   "id": "003abc24",
   "metadata": {},
   "outputs": [],
   "source": [
    "df['post'] = [re.sub('[\\(\\[].*?[\\)\\]]', '', t.replace('\\n', '')) for t in df.post]\n",
    "df['post'] = [t.replace('/\\\\', ' ').replace(':-)', ' ').replace('tdb> ', ' ') \n",
    "              for t in df.post]\n",
    "df['post'] = [t.replace('=', ' ').replace('--', ' ').replace('_', ' ')\\\n",
    "              .replace('}', ' ').replace('*', ' ').replace('^', ' ')\\\n",
    "              .replace('~', ' ')\n",
    "              for t in df.post]\n",
    "df['post'] = [t.replace('- < > -', ' ').replace('|', ' ').replace('*-', ' ') \n",
    "              for t in df.post]\n",
    "df['post'] = [t.replace('...', ' ').replace('\\t', ' ').lower().strip() \n",
    "              for t in df.post]"
   ]
  },
  {
   "cell_type": "code",
   "execution_count": 11,
   "id": "439abf10",
   "metadata": {},
   "outputs": [],
   "source": [
    "stemmer = PorterStemmer()\n",
    "df['stemmed_post'] = [stemmer.stem(w) for w in df['post']]\n",
    "\n",
    "lemmatizer = WordNetLemmatizer()\n",
    "df['stemmed_post'] = [lemmatizer.lemmatize(w) for w in df['post']]"
   ]
  },
  {
   "cell_type": "code",
   "execution_count": 12,
   "id": "830b66e9",
   "metadata": {},
   "outputs": [],
   "source": [
    "df.to_csv('../datasets/cfb_cbball', index = False)"
   ]
  },
  {
   "cell_type": "markdown",
   "id": "72ff1c34",
   "metadata": {},
   "source": [
    "## EDA"
   ]
  },
  {
   "cell_type": "code",
   "execution_count": null,
   "id": "4cb00804",
   "metadata": {},
   "outputs": [],
   "source": []
  }
 ],
 "metadata": {
  "kernelspec": {
   "display_name": "Python 3",
   "language": "python",
   "name": "python3"
  },
  "language_info": {
   "codemirror_mode": {
    "name": "ipython",
    "version": 3
   },
   "file_extension": ".py",
   "mimetype": "text/x-python",
   "name": "python",
   "nbconvert_exporter": "python",
   "pygments_lexer": "ipython3",
   "version": "3.8.8"
  }
 },
 "nbformat": 4,
 "nbformat_minor": 5
}
