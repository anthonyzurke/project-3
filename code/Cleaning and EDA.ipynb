{
 "cells": [
  {
   "cell_type": "markdown",
   "id": "3db75931",
   "metadata": {},
   "source": [
    "## Libraries"
   ]
  },
  {
   "cell_type": "code",
   "execution_count": 1,
   "id": "4fe17729",
   "metadata": {},
   "outputs": [],
   "source": [
    "import numpy as np\n",
    "import pandas as pd\n",
    "import matplotlib.pyplot as plt\n",
    "import seaborn as sns\n",
    "import re\n",
    "\n",
    "from sklearn.feature_extraction.text import CountVectorizer\n",
    "\n",
    "from nltk.stem.porter import *\n",
    "from nltk.stem import PorterStemmer\n",
    "from nltk.tokenize import word_tokenize\n",
    "\n",
    "import spacy\n",
    "from spacytextblob.spacytextblob import SpacyTextBlob\n",
    "\n",
    "import warnings\n",
    "warnings.filterwarnings('ignore')"
   ]
  },
  {
   "cell_type": "markdown",
   "id": "249a24da",
   "metadata": {},
   "source": [
    "## Data"
   ]
  },
  {
   "cell_type": "code",
   "execution_count": 2,
   "id": "5f5b9c49",
   "metadata": {},
   "outputs": [
    {
     "name": "stdout",
     "output_type": "stream",
     "text": [
      "(2500, 3)\n"
     ]
    },
    {
     "data": {
      "text/html": [
       "<div>\n",
       "<style scoped>\n",
       "    .dataframe tbody tr th:only-of-type {\n",
       "        vertical-align: middle;\n",
       "    }\n",
       "\n",
       "    .dataframe tbody tr th {\n",
       "        vertical-align: top;\n",
       "    }\n",
       "\n",
       "    .dataframe thead th {\n",
       "        text-align: right;\n",
       "    }\n",
       "</style>\n",
       "<table border=\"1\" class=\"dataframe\">\n",
       "  <thead>\n",
       "    <tr style=\"text-align: right;\">\n",
       "      <th></th>\n",
       "      <th>selftext</th>\n",
       "      <th>subreddit</th>\n",
       "      <th>title</th>\n",
       "    </tr>\n",
       "  </thead>\n",
       "  <tbody>\n",
       "    <tr>\n",
       "      <th>0</th>\n",
       "      <td>I have seen several times during all the re-al...</td>\n",
       "      <td>CFB</td>\n",
       "      <td>How do research budgets impact conferences?</td>\n",
       "    </tr>\n",
       "    <tr>\n",
       "      <th>1</th>\n",
       "      <td>[removed]</td>\n",
       "      <td>CFB</td>\n",
       "      <td>Is there a chance Pac12 can just kick out WSU?...</td>\n",
       "    </tr>\n",
       "    <tr>\n",
       "      <th>2</th>\n",
       "      <td>NaN</td>\n",
       "      <td>CFB</td>\n",
       "      <td>[Sam Block] - The last time Michigan beat Ohio...</td>\n",
       "    </tr>\n",
       "    <tr>\n",
       "      <th>3</th>\n",
       "      <td>[removed]</td>\n",
       "      <td>CFB</td>\n",
       "      <td>Rename the Big Ten (which has 14 members) and ...</td>\n",
       "    </tr>\n",
       "    <tr>\n",
       "      <th>4</th>\n",
       "      <td>NaN</td>\n",
       "      <td>CFB</td>\n",
       "      <td>Nick Saban on Jahleel Billingsley, team: “This...</td>\n",
       "    </tr>\n",
       "  </tbody>\n",
       "</table>\n",
       "</div>"
      ],
      "text/plain": [
       "                                            selftext subreddit  \\\n",
       "0  I have seen several times during all the re-al...       CFB   \n",
       "1                                          [removed]       CFB   \n",
       "2                                                NaN       CFB   \n",
       "3                                          [removed]       CFB   \n",
       "4                                                NaN       CFB   \n",
       "\n",
       "                                               title  \n",
       "0        How do research budgets impact conferences?  \n",
       "1  Is there a chance Pac12 can just kick out WSU?...  \n",
       "2  [Sam Block] - The last time Michigan beat Ohio...  \n",
       "3  Rename the Big Ten (which has 14 members) and ...  \n",
       "4  Nick Saban on Jahleel Billingsley, team: “This...  "
      ]
     },
     "execution_count": 2,
     "metadata": {},
     "output_type": "execute_result"
    }
   ],
   "source": [
    "df_cfb = pd.read_csv('../datasets/subreddit_cfb', usecols = ['title', 'subreddit', 'selftext'])\n",
    "print(df_cfb.shape)\n",
    "df_cfb.head()"
   ]
  },
  {
   "cell_type": "code",
   "execution_count": 3,
   "id": "63545f49",
   "metadata": {},
   "outputs": [
    {
     "name": "stdout",
     "output_type": "stream",
     "text": [
      "(2500, 3)\n"
     ]
    },
    {
     "data": {
      "text/html": [
       "<div>\n",
       "<style scoped>\n",
       "    .dataframe tbody tr th:only-of-type {\n",
       "        vertical-align: middle;\n",
       "    }\n",
       "\n",
       "    .dataframe tbody tr th {\n",
       "        vertical-align: top;\n",
       "    }\n",
       "\n",
       "    .dataframe thead th {\n",
       "        text-align: right;\n",
       "    }\n",
       "</style>\n",
       "<table border=\"1\" class=\"dataframe\">\n",
       "  <thead>\n",
       "    <tr style=\"text-align: right;\">\n",
       "      <th></th>\n",
       "      <th>selftext</th>\n",
       "      <th>subreddit</th>\n",
       "      <th>title</th>\n",
       "    </tr>\n",
       "  </thead>\n",
       "  <tbody>\n",
       "    <tr>\n",
       "      <th>0</th>\n",
       "      <td>***The Massachusetts Showdown***\\n\\nIn this se...</td>\n",
       "      <td>CollegeBasketball</td>\n",
       "      <td>The Intra-State Showdown: Massachusetts</td>\n",
       "    </tr>\n",
       "    <tr>\n",
       "      <th>1</th>\n",
       "      <td>***The Maryland Showdown***\\n\\nIn this series,...</td>\n",
       "      <td>CollegeBasketball</td>\n",
       "      <td>The Intra-State Showdown: Maryland</td>\n",
       "    </tr>\n",
       "    <tr>\n",
       "      <th>2</th>\n",
       "      <td>***The Louisiana Showdown***\\n\\nIn this series...</td>\n",
       "      <td>CollegeBasketball</td>\n",
       "      <td>The Intra-State Showdown: Louisiana</td>\n",
       "    </tr>\n",
       "    <tr>\n",
       "      <th>3</th>\n",
       "      <td>B10 has 14 members, B12 has 8. The other power...</td>\n",
       "      <td>CollegeBasketball</td>\n",
       "      <td>Rename the Big Ten and Big 12</td>\n",
       "    </tr>\n",
       "    <tr>\n",
       "      <th>4</th>\n",
       "      <td>NaN</td>\n",
       "      <td>CollegeBasketball</td>\n",
       "      <td>2020 NBA Mock Draft (First Round)</td>\n",
       "    </tr>\n",
       "  </tbody>\n",
       "</table>\n",
       "</div>"
      ],
      "text/plain": [
       "                                            selftext          subreddit  \\\n",
       "0  ***The Massachusetts Showdown***\\n\\nIn this se...  CollegeBasketball   \n",
       "1  ***The Maryland Showdown***\\n\\nIn this series,...  CollegeBasketball   \n",
       "2  ***The Louisiana Showdown***\\n\\nIn this series...  CollegeBasketball   \n",
       "3  B10 has 14 members, B12 has 8. The other power...  CollegeBasketball   \n",
       "4                                                NaN  CollegeBasketball   \n",
       "\n",
       "                                     title  \n",
       "0  The Intra-State Showdown: Massachusetts  \n",
       "1       The Intra-State Showdown: Maryland  \n",
       "2      The Intra-State Showdown: Louisiana  \n",
       "3            Rename the Big Ten and Big 12  \n",
       "4        2020 NBA Mock Draft (First Round)  "
      ]
     },
     "execution_count": 3,
     "metadata": {},
     "output_type": "execute_result"
    }
   ],
   "source": [
    "df_bball = pd.read_csv('../datasets/subreddit_cbball', usecols = ['title', 'subreddit', 'selftext'])\n",
    "print(df_bball.shape)\n",
    "df_bball.head()"
   ]
  },
  {
   "cell_type": "code",
   "execution_count": 4,
   "id": "c1cfd6e8",
   "metadata": {},
   "outputs": [
    {
     "name": "stdout",
     "output_type": "stream",
     "text": [
      "(5000, 3)\n"
     ]
    },
    {
     "data": {
      "text/html": [
       "<div>\n",
       "<style scoped>\n",
       "    .dataframe tbody tr th:only-of-type {\n",
       "        vertical-align: middle;\n",
       "    }\n",
       "\n",
       "    .dataframe tbody tr th {\n",
       "        vertical-align: top;\n",
       "    }\n",
       "\n",
       "    .dataframe thead th {\n",
       "        text-align: right;\n",
       "    }\n",
       "</style>\n",
       "<table border=\"1\" class=\"dataframe\">\n",
       "  <thead>\n",
       "    <tr style=\"text-align: right;\">\n",
       "      <th></th>\n",
       "      <th>selftext</th>\n",
       "      <th>subreddit</th>\n",
       "      <th>title</th>\n",
       "    </tr>\n",
       "  </thead>\n",
       "  <tbody>\n",
       "    <tr>\n",
       "      <th>0</th>\n",
       "      <td>I have seen several times during all the re-al...</td>\n",
       "      <td>CFB</td>\n",
       "      <td>How do research budgets impact conferences?</td>\n",
       "    </tr>\n",
       "    <tr>\n",
       "      <th>1</th>\n",
       "      <td>[removed]</td>\n",
       "      <td>CFB</td>\n",
       "      <td>Is there a chance Pac12 can just kick out WSU?...</td>\n",
       "    </tr>\n",
       "    <tr>\n",
       "      <th>2</th>\n",
       "      <td>NaN</td>\n",
       "      <td>CFB</td>\n",
       "      <td>[Sam Block] - The last time Michigan beat Ohio...</td>\n",
       "    </tr>\n",
       "    <tr>\n",
       "      <th>3</th>\n",
       "      <td>[removed]</td>\n",
       "      <td>CFB</td>\n",
       "      <td>Rename the Big Ten (which has 14 members) and ...</td>\n",
       "    </tr>\n",
       "    <tr>\n",
       "      <th>4</th>\n",
       "      <td>NaN</td>\n",
       "      <td>CFB</td>\n",
       "      <td>Nick Saban on Jahleel Billingsley, team: “This...</td>\n",
       "    </tr>\n",
       "  </tbody>\n",
       "</table>\n",
       "</div>"
      ],
      "text/plain": [
       "                                            selftext subreddit  \\\n",
       "0  I have seen several times during all the re-al...       CFB   \n",
       "1                                          [removed]       CFB   \n",
       "2                                                NaN       CFB   \n",
       "3                                          [removed]       CFB   \n",
       "4                                                NaN       CFB   \n",
       "\n",
       "                                               title  \n",
       "0        How do research budgets impact conferences?  \n",
       "1  Is there a chance Pac12 can just kick out WSU?...  \n",
       "2  [Sam Block] - The last time Michigan beat Ohio...  \n",
       "3  Rename the Big Ten (which has 14 members) and ...  \n",
       "4  Nick Saban on Jahleel Billingsley, team: “This...  "
      ]
     },
     "execution_count": 4,
     "metadata": {},
     "output_type": "execute_result"
    }
   ],
   "source": [
    "df = pd.concat([df_cfb, df_bball])\n",
    "print(df.shape)\n",
    "df.head()"
   ]
  },
  {
   "cell_type": "markdown",
   "id": "2d43604a",
   "metadata": {},
   "source": [
    "## Data Cleaning"
   ]
  },
  {
   "cell_type": "code",
   "execution_count": 5,
   "id": "7ec08995",
   "metadata": {
    "scrolled": true
   },
   "outputs": [
    {
     "name": "stdout",
     "output_type": "stream",
     "text": [
      "<class 'pandas.core.frame.DataFrame'>\n",
      "Int64Index: 5000 entries, 0 to 2499\n",
      "Data columns (total 3 columns):\n",
      " #   Column     Non-Null Count  Dtype \n",
      "---  ------     --------------  ----- \n",
      " 0   selftext   2362 non-null   object\n",
      " 1   subreddit  5000 non-null   object\n",
      " 2   title      4999 non-null   object\n",
      "dtypes: object(3)\n",
      "memory usage: 156.2+ KB\n"
     ]
    }
   ],
   "source": [
    "df.info()"
   ]
  },
  {
   "cell_type": "markdown",
   "id": "6aa2f3e6",
   "metadata": {},
   "source": [
    "### Binarize Subreddits 1: CFB, 0: CollegeBasketball"
   ]
  },
  {
   "cell_type": "code",
   "execution_count": 6,
   "id": "2f3b4bd2",
   "metadata": {},
   "outputs": [],
   "source": [
    "# College Football is 1 and College Basketball is 0\n",
    "df['subreddit'] = df['subreddit'].map({'CFB': 1, 'CollegeBasketball': 0})"
   ]
  },
  {
   "cell_type": "markdown",
   "id": "041a7c98",
   "metadata": {},
   "source": [
    "### Check for nulls and add post_length, post_word_count"
   ]
  },
  {
   "cell_type": "code",
   "execution_count": 7,
   "id": "85eb0da4",
   "metadata": {},
   "outputs": [],
   "source": [
    "df['selftext'].replace('[removed]', np.NaN, inplace = True)\n",
    "df['selftext'].replace('[deleted]', np.NaN, inplace = True)"
   ]
  },
  {
   "cell_type": "code",
   "execution_count": 8,
   "id": "b94330a7",
   "metadata": {},
   "outputs": [
    {
     "name": "stdout",
     "output_type": "stream",
     "text": [
      "(1648, 3)\n"
     ]
    }
   ],
   "source": [
    "df.dropna(inplace = True)\n",
    "print(df.shape)"
   ]
  },
  {
   "cell_type": "code",
   "execution_count": 9,
   "id": "1d7f65e7",
   "metadata": {},
   "outputs": [],
   "source": [
    "df['post'] = df['title'] + ' ' + df['selftext']\n",
    "df['post_length'] = df['post'].str.len()\n",
    "df['post_word_count'] = df['post'].str.count(' ') + 1"
   ]
  },
  {
   "cell_type": "markdown",
   "id": "9a4bfe18",
   "metadata": {},
   "source": [
    "### Clean Text"
   ]
  },
  {
   "cell_type": "code",
   "execution_count": 10,
   "id": "6d9d2ae4",
   "metadata": {},
   "outputs": [],
   "source": [
    "df['post'] = df['post'].apply(lambda x: re.sub(r'http\\S+', '', x))\n",
    "\n",
    "for i, text in enumerate(df['post']):\n",
    "    text_cleaned = text.replace('&amp;', '&')\n",
    "    text_cleaned = text_cleaned.replace('nbsp;', ' ')\n",
    "    text_cleaned = text_cleaned.replace(\"'\\'\", '')\n",
    "    text_cleaned = text_cleaned.replace('-', '')\n",
    "    text_cleaned = text_cleaned.replace('/', ' ')\n",
    "    text_cleaned = text_cleaned.replace('&amp;#x200B;', '')\n",
    "    text_cleaned = text_cleaned.replace('&#x200B;', '')\n",
    "    df['post'].iloc[i] = text_cleaned.replace('\\n', ' ').strip()\n",
    "    \n",
    "# https://stackoverflow.com/questions/20894525/how-to-remove-parentheses-and-all-data-within-using-pandas-python"
   ]
  },
  {
   "cell_type": "markdown",
   "id": "2bf8d6a5",
   "metadata": {},
   "source": [
    "### Outliers"
   ]
  },
  {
   "cell_type": "code",
   "execution_count": 11,
   "id": "147398c1",
   "metadata": {},
   "outputs": [
    {
     "data": {
      "text/html": [
       "<div>\n",
       "<style scoped>\n",
       "    .dataframe tbody tr th:only-of-type {\n",
       "        vertical-align: middle;\n",
       "    }\n",
       "\n",
       "    .dataframe tbody tr th {\n",
       "        vertical-align: top;\n",
       "    }\n",
       "\n",
       "    .dataframe thead th {\n",
       "        text-align: right;\n",
       "    }\n",
       "</style>\n",
       "<table border=\"1\" class=\"dataframe\">\n",
       "  <thead>\n",
       "    <tr style=\"text-align: right;\">\n",
       "      <th></th>\n",
       "      <th>subreddit</th>\n",
       "      <th>post_length</th>\n",
       "      <th>post_word_count</th>\n",
       "    </tr>\n",
       "  </thead>\n",
       "  <tbody>\n",
       "    <tr>\n",
       "      <th>count</th>\n",
       "      <td>1648.000000</td>\n",
       "      <td>1648.000000</td>\n",
       "      <td>1648.000000</td>\n",
       "    </tr>\n",
       "    <tr>\n",
       "      <th>mean</th>\n",
       "      <td>0.582524</td>\n",
       "      <td>785.037015</td>\n",
       "      <td>112.510316</td>\n",
       "    </tr>\n",
       "    <tr>\n",
       "      <th>std</th>\n",
       "      <td>0.493292</td>\n",
       "      <td>1753.832994</td>\n",
       "      <td>265.319255</td>\n",
       "    </tr>\n",
       "    <tr>\n",
       "      <th>min</th>\n",
       "      <td>0.000000</td>\n",
       "      <td>18.000000</td>\n",
       "      <td>2.000000</td>\n",
       "    </tr>\n",
       "    <tr>\n",
       "      <th>25%</th>\n",
       "      <td>0.000000</td>\n",
       "      <td>179.750000</td>\n",
       "      <td>17.000000</td>\n",
       "    </tr>\n",
       "    <tr>\n",
       "      <th>50%</th>\n",
       "      <td>1.000000</td>\n",
       "      <td>293.000000</td>\n",
       "      <td>36.000000</td>\n",
       "    </tr>\n",
       "    <tr>\n",
       "      <th>75%</th>\n",
       "      <td>1.000000</td>\n",
       "      <td>602.250000</td>\n",
       "      <td>96.000000</td>\n",
       "    </tr>\n",
       "    <tr>\n",
       "      <th>max</th>\n",
       "      <td>1.000000</td>\n",
       "      <td>35815.000000</td>\n",
       "      <td>5118.000000</td>\n",
       "    </tr>\n",
       "  </tbody>\n",
       "</table>\n",
       "</div>"
      ],
      "text/plain": [
       "         subreddit   post_length  post_word_count\n",
       "count  1648.000000   1648.000000      1648.000000\n",
       "mean      0.582524    785.037015       112.510316\n",
       "std       0.493292   1753.832994       265.319255\n",
       "min       0.000000     18.000000         2.000000\n",
       "25%       0.000000    179.750000        17.000000\n",
       "50%       1.000000    293.000000        36.000000\n",
       "75%       1.000000    602.250000        96.000000\n",
       "max       1.000000  35815.000000      5118.000000"
      ]
     },
     "execution_count": 11,
     "metadata": {},
     "output_type": "execute_result"
    }
   ],
   "source": [
    "df.describe()"
   ]
  },
  {
   "cell_type": "code",
   "execution_count": 12,
   "id": "ecf0e4e9",
   "metadata": {},
   "outputs": [
    {
     "data": {
      "image/png": "[encoded data removed]",
      "text/plain": [
       "<Figure size 432x288 with 1 Axes>"
      ]
     },
     "metadata": {
      "needs_background": "light"
     },
     "output_type": "display_data"
    }
   ],
   "source": [
    "sns.boxplot(x = df['subreddit'], y = df['post_word_count'], \n",
    "            data = df, order = {1: 'CFB', 0: 'CollegeBasketball'});"
   ]
  },
  {
   "cell_type": "code",
   "execution_count": 13,
   "id": "b6ed9215",
   "metadata": {},
   "outputs": [
    {
     "name": "stdout",
     "output_type": "stream",
     "text": [
      "CFB outliers: 162.5\n",
      "CollegeBasketball outliers: 258.5\n"
     ]
    }
   ],
   "source": [
    "q1_cfb = (df['post_word_count'][df['subreddit'] == 1]).quantile(.25)\n",
    "q3_cfb = (df['post_word_count'][df['subreddit'] == 1]).quantile(.75)\n",
    "IQR_cfb = q3_cfb - q1_cfb\n",
    "\n",
    "outliers_cfb = q3_cfb + 1.5 * IQR_cfb\n",
    "print('CFB outliers:', outliers_cfb)\n",
    "\n",
    "q1_bball = (df['post_word_count'][df['subreddit'] == 0]).quantile(.25)\n",
    "q3_bball = (df['post_word_count'][df['subreddit'] == 0]).quantile(.75)\n",
    "IQR_bball = q3_bball - q1_bball\n",
    "\n",
    "outliers_bball = q3_bball + 1.5 * IQR_bball\n",
    "print('CollegeBasketball outliers:', outliers_bball)\n",
    "\n",
    "df_cfb = df.loc[(df['subreddit'] == 1) & (df['post_word_count'] < outliers_cfb)]\n",
    "df_bball = df.loc[(df['subreddit'] == 0) & (df['post_word_count'] < outliers_bball)]\n",
    "# https://towardsdatascience.com/ways-to-detect-and-remove-the-outliers-404d16608dba"
   ]
  },
  {
   "cell_type": "code",
   "execution_count": 14,
   "id": "b86e2b8c",
   "metadata": {},
   "outputs": [
    {
     "name": "stdout",
     "output_type": "stream",
     "text": [
      "(1421, 6)\n"
     ]
    }
   ],
   "source": [
    "df = pd.concat([df_cfb, df_bball])\n",
    "print(df.shape)"
   ]
  },
  {
   "cell_type": "markdown",
   "id": "39631c0a",
   "metadata": {},
   "source": [
    "## EDA On Word Counts"
   ]
  },
  {
   "cell_type": "code",
   "execution_count": 15,
   "id": "c8668bc8",
   "metadata": {},
   "outputs": [
    {
     "data": {
      "image/png": "[encoded data removed]",
      "text/plain": [
       "<Figure size 1440x1080 with 4 Axes>"
      ]
     },
     "metadata": {
      "needs_background": "light"
     },
     "output_type": "display_data"
    }
   ],
   "source": [
    "fig, ax = plt.subplots(2, 2, figsize = (20, 15))\n",
    "\n",
    "ax[0][0].hist(df['post_length'][df['subreddit'] == 1], color = 'blue')\n",
    "ax[0][0].set_xlabel('Post Length', fontsize = 12)\n",
    "ax[0][0].set_ylabel('Total Posts', fontsize = 12)\n",
    "ax[0][0].set_title('CFB Post Length by Character', fontsize = 14, pad = 12, fontweight = 'bold')\n",
    "\n",
    "ax[0][1].hist(df['post_word_count'][df['subreddit'] == 1], color = 'blue')\n",
    "ax[0][1].set_xlabel('Post Word Count', fontsize = 12)\n",
    "ax[0][1].set_ylabel('Total Posts', fontsize = 12)\n",
    "ax[0][1].set_title('CFB Post Length by Word Count', fontsize = 14, pad = 12, fontweight = 'bold')\n",
    "\n",
    "ax[1][0].hist(df['post_length'][df['subreddit'] == 0], color = 'red')\n",
    "ax[1][0].set_xlabel('Post Length', fontsize = 12)\n",
    "ax[1][0].set_ylabel('Total Posts', fontsize = 12)\n",
    "ax[1][0].set_title('CollegeBasketball Post Length by Character', fontsize = 14, pad = 12, fontweight = 'bold')\n",
    "\n",
    "ax[1][1].hist(df['post_word_count'][df['subreddit'] == 0], color = 'red')\n",
    "ax[1][1].set_xlabel('Post Word Count', fontsize = 12)\n",
    "ax[1][1].set_ylabel('Total Posts', fontsize = 12)\n",
    "ax[1][1].set_title('CollegeBasketball Post Length by Word Count', fontsize = 14, fontweight = 'bold', pad = 12);"
   ]
  },
  {
   "cell_type": "markdown",
   "id": "012f14ba",
   "metadata": {},
   "source": [
    "### Stemming"
   ]
  },
  {
   "cell_type": "code",
   "execution_count": 16,
   "id": "439abf10",
   "metadata": {},
   "outputs": [],
   "source": [
    "stemmer = PorterStemmer()\n",
    "df['stemmed_post'] = df['post'].apply(lambda x: ' '.join([stemmer.stem(w) for w in word_tokenize(x)]))\n",
    "# Sophie's NLP walkthrough"
   ]
  },
  {
   "cell_type": "markdown",
   "id": "f24dca9c",
   "metadata": {},
   "source": [
    "### EDA on Word Counts"
   ]
  },
  {
   "cell_type": "code",
   "execution_count": 17,
   "id": "e0dedcd7",
   "metadata": {},
   "outputs": [],
   "source": [
    "cvec = CountVectorizer(stop_words = 'english', \n",
    "                       strip_accents = 'ascii', \n",
    "                       min_df = .01)\n",
    "\n",
    "cfb_cvec = cvec.fit(df['post'][df['subreddit'] == 1])\n",
    "bball_cvec = cvec.fit(df['post'][df['subreddit'] == 0])\n",
    "\n",
    "trans_cfb = cvec.transform(df['post'][df['subreddit'] == 1]).todense()\n",
    "trans_bball = cvec.transform(df['post'][df['subreddit'] == 0]).todense()\n",
    "\n",
    "df_cfb_cvec = pd.DataFrame(trans_cfb,\n",
    "                           columns = cfb_cvec.get_feature_names())\n",
    "df_bball_cvec = pd.DataFrame(trans_bball,\n",
    "                             columns = bball_cvec.get_feature_names())\n",
    "# Sophie's NLP walkthrough"
   ]
  },
  {
   "cell_type": "code",
   "execution_count": 18,
   "id": "69f14c86",
   "metadata": {},
   "outputs": [
    {
     "data": {
      "image/png": "[encoded data removed]",
      "text/plain": [
       "<Figure size 720x720 with 1 Axes>"
      ]
     },
     "metadata": {
      "needs_background": "light"
     },
     "output_type": "display_data"
    }
   ],
   "source": [
    "cfb_15 = df_cfb_cvec.sum().sort_values(ascending = False).head(15)\n",
    "fig, ax = plt.subplots(figsize = (10, 10))\n",
    "cfb_15.plot(kind = 'barh', color = 'blue')\n",
    "ax.set_title('Top 15 Words r/CFB', fontsize = 14, pad = 12);"
   ]
  },
  {
   "cell_type": "code",
   "execution_count": 19,
   "id": "e48d069e",
   "metadata": {},
   "outputs": [
    {
     "data": {
      "image/png": "[encoded data removed]",
      "text/plain": [
       "<Figure size 576x576 with 1 Axes>"
      ]
     },
     "metadata": {
      "needs_background": "light"
     },
     "output_type": "display_data"
    }
   ],
   "source": [
    "bball_15 = df_bball_cvec.sum().sort_values(ascending = False).head(15)\n",
    "fig, ax = plt.subplots(figsize = (8, 8))\n",
    "bball_15.plot(kind = 'barh', color = 'red')\n",
    "ax.set_title('Top 15 Words r/CollegeBasketball', fontsize = 14, pad = 12);"
   ]
  },
  {
   "cell_type": "code",
   "execution_count": 20,
   "id": "7fda0f65",
   "metadata": {},
   "outputs": [],
   "source": [
    "cvec = CountVectorizer(stop_words = 'english', \n",
    "                       strip_accents = 'ascii', \n",
    "                       min_df = .01)\n",
    "\n",
    "cfb_cvec_stem = cvec.fit(df['stemmed_post'][df['subreddit'] == 1])\n",
    "bball_cvec_stem = cvec.fit(df['stemmed_post'][df['subreddit'] == 0])\n",
    "\n",
    "trans_cfb_stem = cvec.transform(df['stemmed_post'][df['subreddit'] == 1]).todense()\n",
    "trans_bball_stem = cvec.transform(df['stemmed_post'][df['subreddit'] == 0]).todense()\n",
    "\n",
    "df_cfb_cvec_stem = pd.DataFrame(trans_cfb_stem, columns = cfb_cvec_stem.get_feature_names())\n",
    "df_bball_cvec_stem = pd.DataFrame(trans_bball_stem, columns = bball_cvec_stem.get_feature_names())"
   ]
  },
  {
   "cell_type": "code",
   "execution_count": 21,
   "id": "fff71649",
   "metadata": {},
   "outputs": [
    {
     "data": {
      "image/png": "[encoded data removed]",
      "text/plain": [
       "<Figure size 720x720 with 1 Axes>"
      ]
     },
     "metadata": {
      "needs_background": "light"
     },
     "output_type": "display_data"
    }
   ],
   "source": [
    "cfb_15_stemmed = df_cfb_cvec_stem.sum().sort_values(ascending = False).head(15)\n",
    "fig, ax = plt.subplots(figsize = (10, 10))\n",
    "cfb_15_stemmed.plot(kind = 'barh', color = 'blue')\n",
    "ax.set_xlabel('Common Words', fontsize = 12)\n",
    "ax.set_ylabel('Total Words', fontsize = 12)\n",
    "ax.set_title('Top 15 Words r/CFB Stemmed', fontsize = 14, pad = 12);"
   ]
  },
  {
   "cell_type": "code",
   "execution_count": 22,
   "id": "ba365779",
   "metadata": {},
   "outputs": [
    {
     "data": {
      "image/png": "[encoded data removed]",
      "text/plain": [
       "<Figure size 720x720 with 1 Axes>"
      ]
     },
     "metadata": {
      "needs_background": "light"
     },
     "output_type": "display_data"
    }
   ],
   "source": [
    "bball_15_stemmed = df_bball_cvec_stem.sum().sort_values(ascending = False).head(15)\n",
    "fig, ax = plt.subplots(figsize = (10, 10))\n",
    "bball_15_stemmed.plot(kind = 'barh', color = 'red')\n",
    "ax.set_xlabel('Common Words', fontsize = 12)\n",
    "ax.set_ylabel('Total Words', fontsize = 12)\n",
    "ax.set_title('Top 15 Words r/CollegeBasketball Stemmed', fontsize = 14, pad = 12);"
   ]
  },
  {
   "cell_type": "code",
   "execution_count": 23,
   "id": "c5d4e188",
   "metadata": {},
   "outputs": [
    {
     "name": "stdout",
     "output_type": "stream",
     "text": [
      "CFB Polarity: 0.06879804651208767\n",
      "CFB Subjectivity: 0.4241496792781037\n",
      "\n",
      "CollegeBasketball Polarity: 0.1222440153525197\n",
      "CollegeBasketball Subjectivity: 0.48171778531016124\n"
     ]
    }
   ],
   "source": [
    "nlp = spacy.load('en_core_web_sm')\n",
    "\n",
    "nlp.add_pipe('spacytextblob')\n",
    "\n",
    "cfb_text = (df['stemmed_post'][df['subreddit'] == 1]).to_string()\n",
    "bball_text = (df['stemmed_post'][df['subreddit'] == 0]).to_string()\n",
    "\n",
    "doc_cfb = nlp(cfb_text)\n",
    "doc_bball = nlp(bball_text)\n",
    "\n",
    "print('CFB Polarity:', doc_cfb._.polarity)\n",
    "print('CFB Subjectivity:', doc_cfb._.subjectivity)\n",
    "print()\n",
    "print('CollegeBasketball Polarity:', doc_bball._.polarity)\n",
    "print('CollegeBasketball Subjectivity:', doc_bball._.subjectivity)\n",
    "# Sophie's NLP walkthrough"
   ]
  },
  {
   "cell_type": "markdown",
   "id": "6813da7a",
   "metadata": {},
   "source": [
    "## Export Dataset"
   ]
  },
  {
   "cell_type": "code",
   "execution_count": 24,
   "id": "c01c21a6",
   "metadata": {},
   "outputs": [],
   "source": [
    "df.to_csv('../datasets/cfb_cbball', index = False)"
   ]
  }
 ],
 "metadata": {
  "kernelspec": {
   "display_name": "Python 3",
   "language": "python",
   "name": "python3"
  },
  "language_info": {
   "codemirror_mode": {
    "name": "ipython",
    "version": 3
   },
   "file_extension": ".py",
   "mimetype": "text/x-python",
   "name": "python",
   "nbconvert_exporter": "python",
   "pygments_lexer": "ipython3",
   "version": "3.8.8"
  }
 },
 "nbformat": 4,
 "nbformat_minor": 5
}
