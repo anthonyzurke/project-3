{
 "cells": [
  {
   "cell_type": "markdown",
   "id": "8fabcf08",
   "metadata": {},
   "source": [
    "# Contents \n",
    "\n",
    "- [Libraries](#Libraries)\n",
    "- [Data](#Data)\n",
    "- [Modeling](#Modeling)\n",
    "    - [Logistic Regression](#Logistic-Regression)\n",
    "    - [Random Forest](#Random-Forest-Classifier)"
   ]
  },
  {
   "cell_type": "markdown",
   "id": "fa687f59",
   "metadata": {},
   "source": [
    "# Libraries"
   ]
  },
  {
   "cell_type": "code",
   "execution_count": 1,
   "id": "5495088b",
   "metadata": {},
   "outputs": [],
   "source": [
    "import numpy as np\n",
    "import pandas as pd\n",
    "import matplotlib.pyplot as plt\n",
    "import seaborn as sns\n",
    "\n",
    "from sklearn.linear_model import LogisticRegression\n",
    "from sklearn.feature_extraction import text\n",
    "from sklearn.feature_extraction.text import CountVectorizer, TfidfVectorizer\n",
    "from sklearn.pipeline import Pipeline\n",
    "from sklearn.model_selection import train_test_split, GridSearchCV, cross_val_score\n",
    "from sklearn.metrics import plot_confusion_matrix\n",
    "from sklearn.ensemble import RandomForestClassifier\n",
    "import sklearn.metrics as metrics\n",
    "import warnings\n",
    "warnings.filterwarnings('ignore')"
   ]
  },
  {
   "cell_type": "markdown",
   "id": "c3b72293",
   "metadata": {},
   "source": [
    "# Data "
   ]
  },
  {
   "cell_type": "code",
   "execution_count": 2,
   "id": "f28ddbd1",
   "metadata": {},
   "outputs": [
    {
     "name": "stdout",
     "output_type": "stream",
     "text": [
      "(1421, 7)\n"
     ]
    },
    {
     "data": {
      "text/html": [
       "<div>\n",
       "<style scoped>\n",
       "    .dataframe tbody tr th:only-of-type {\n",
       "        vertical-align: middle;\n",
       "    }\n",
       "\n",
       "    .dataframe tbody tr th {\n",
       "        vertical-align: top;\n",
       "    }\n",
       "\n",
       "    .dataframe thead th {\n",
       "        text-align: right;\n",
       "    }\n",
       "</style>\n",
       "<table border=\"1\" class=\"dataframe\">\n",
       "  <thead>\n",
       "    <tr style=\"text-align: right;\">\n",
       "      <th></th>\n",
       "      <th>selftext</th>\n",
       "      <th>subreddit</th>\n",
       "      <th>title</th>\n",
       "      <th>post</th>\n",
       "      <th>post_length</th>\n",
       "      <th>post_word_count</th>\n",
       "      <th>stemmed_post</th>\n",
       "    </tr>\n",
       "  </thead>\n",
       "  <tbody>\n",
       "    <tr>\n",
       "      <th>0</th>\n",
       "      <td>I have seen several times during all the re-al...</td>\n",
       "      <td>1</td>\n",
       "      <td>How do research budgets impact conferences?</td>\n",
       "      <td>How do research budgets impact conferences? I ...</td>\n",
       "      <td>570</td>\n",
       "      <td>89</td>\n",
       "      <td>how do research budget impact confer ? i have ...</td>\n",
       "    </tr>\n",
       "    <tr>\n",
       "      <th>1</th>\n",
       "      <td>[https://www.espn.com/college-football/story/\\...</td>\n",
       "      <td>1</td>\n",
       "      <td>Penn State AD says the Big Ten has more than m...</td>\n",
       "      <td>Penn State AD says the Big Ten has more than m...</td>\n",
       "      <td>889</td>\n",
       "      <td>103</td>\n",
       "      <td>penn state ad say the big ten ha more than mon...</td>\n",
       "    </tr>\n",
       "    <tr>\n",
       "      <th>2</th>\n",
       "      <td>247 Profile: https://247sports.com/Player/Trav...</td>\n",
       "      <td>1</td>\n",
       "      <td>2022 5* DT Travis Shaw commits to North Carolina</td>\n",
       "      <td>2022 5* DT Travis Shaw commits to North Caroli...</td>\n",
       "      <td>186</td>\n",
       "      <td>13</td>\n",
       "      <td>2022 5 * dt travi shaw commit to north carolin...</td>\n",
       "    </tr>\n",
       "    <tr>\n",
       "      <th>3</th>\n",
       "      <td>We are one week away from the greatest sport i...</td>\n",
       "      <td>1</td>\n",
       "      <td>One Week Away</td>\n",
       "      <td>One Week Away We are one week away from the gr...</td>\n",
       "      <td>444</td>\n",
       "      <td>76</td>\n",
       "      <td>one week away we are one week away from the gr...</td>\n",
       "    </tr>\n",
       "    <tr>\n",
       "      <th>4</th>\n",
       "      <td>[https://twitter.com/naevail/status/1429186980...</td>\n",
       "      <td>1</td>\n",
       "      <td>2022 3* S Nathan Vail commits to Duke</td>\n",
       "      <td>2022 3* S Nathan Vail commits to Duke [  [</td>\n",
       "      <td>266</td>\n",
       "      <td>9</td>\n",
       "      <td>2022 3 * s nathan vail commit to duke [   [</td>\n",
       "    </tr>\n",
       "  </tbody>\n",
       "</table>\n",
       "</div>"
      ],
      "text/plain": [
       "                                            selftext  subreddit  \\\n",
       "0  I have seen several times during all the re-al...          1   \n",
       "1  [https://www.espn.com/college-football/story/\\...          1   \n",
       "2  247 Profile: https://247sports.com/Player/Trav...          1   \n",
       "3  We are one week away from the greatest sport i...          1   \n",
       "4  [https://twitter.com/naevail/status/1429186980...          1   \n",
       "\n",
       "                                               title  \\\n",
       "0        How do research budgets impact conferences?   \n",
       "1  Penn State AD says the Big Ten has more than m...   \n",
       "2   2022 5* DT Travis Shaw commits to North Carolina   \n",
       "3                                      One Week Away   \n",
       "4              2022 3* S Nathan Vail commits to Duke   \n",
       "\n",
       "                                                post  post_length  \\\n",
       "0  How do research budgets impact conferences? I ...          570   \n",
       "1  Penn State AD says the Big Ten has more than m...          889   \n",
       "2  2022 5* DT Travis Shaw commits to North Caroli...          186   \n",
       "3  One Week Away We are one week away from the gr...          444   \n",
       "4         2022 3* S Nathan Vail commits to Duke [  [          266   \n",
       "\n",
       "   post_word_count                                       stemmed_post  \n",
       "0               89  how do research budget impact confer ? i have ...  \n",
       "1              103  penn state ad say the big ten ha more than mon...  \n",
       "2               13  2022 5 * dt travi shaw commit to north carolin...  \n",
       "3               76  one week away we are one week away from the gr...  \n",
       "4                9        2022 3 * s nathan vail commit to duke [   [  "
      ]
     },
     "execution_count": 2,
     "metadata": {},
     "output_type": "execute_result"
    }
   ],
   "source": [
    "# https://stackoverflow.com/questions/33998740/error-in-reading-a-csv-file-in-pandascparsererror-error-tokenizing-data-c-err\n",
    "df = pd.read_csv('../datasets/cfb_cbball', lineterminator='\\n')\n",
    "\n",
    "print(df.shape)\n",
    "df.head()"
   ]
  },
  {
   "cell_type": "code",
   "execution_count": 3,
   "id": "7028c582",
   "metadata": {},
   "outputs": [
    {
     "data": {
      "text/plain": [
       "CountVectorizer(stop_words=frozenset({'a', 'about', 'above', 'across', 'after',\n",
       "                                      'afterwards', 'again', 'against', 'all',\n",
       "                                      'almost', 'alone', 'along', 'already',\n",
       "                                      'also', 'although', 'always', 'am',\n",
       "                                      'among', 'amongst', 'amoungst', 'amount',\n",
       "                                      'an', 'and', 'another', 'any', 'anyhow',\n",
       "                                      'anyone', 'anything', 'anyway',\n",
       "                                      'anywhere', ...}))"
      ]
     },
     "execution_count": 3,
     "metadata": {},
     "output_type": "execute_result"
    }
   ],
   "source": [
    "cfb_stop_words = ['football', 'playoff', 'field', 'gameday', 'quarterback', 'heisman']\n",
    "cfb_stop_words = text.ENGLISH_STOP_WORDS.union(cfb_stop_words)\n",
    "\n",
    "cfb_cvec = CountVectorizer(stop_words = cfb_stop_words)\n",
    "cfb_sub = df['post'][df['subreddit'] == 1]\n",
    "cfb_cvec.fit(cfb_sub)"
   ]
  },
  {
   "cell_type": "code",
   "execution_count": 4,
   "id": "84d432b9",
   "metadata": {},
   "outputs": [],
   "source": [
    "bball_stop_words = ['basketball', 'tournament', 'court', 'dribble', 'shoot', 'league']\n",
    "bball_stop_words = text.ENGLISH_STOP_WORDS.union(bball_stop_words)\n",
    "\n",
    "bball_cvec = CountVectorizer(stop_words = bball_stop_words)\n",
    "bball_sub = df['post'][df['subreddit'] == 0]\n",
    "bball_cvec.fit(bball_sub)\n",
    "\n",
    "stop_words = cfb_stop_words.union(bball_stop_words)"
   ]
  },
  {
   "cell_type": "markdown",
   "id": "ac55ce39",
   "metadata": {},
   "source": [
    "# Modeling"
   ]
  },
  {
   "cell_type": "markdown",
   "id": "57c8add1",
   "metadata": {},
   "source": [
    "### Baseline Model"
   ]
  },
  {
   "cell_type": "code",
   "execution_count": 5,
   "id": "2eddd67f",
   "metadata": {},
   "outputs": [
    {
     "data": {
      "text/plain": [
       "1    0.574243\n",
       "0    0.425757\n",
       "Name: subreddit, dtype: float64"
      ]
     },
     "execution_count": 5,
     "metadata": {},
     "output_type": "execute_result"
    }
   ],
   "source": [
    "X = df['stemmed_post']\n",
    "y = df['subreddit']\n",
    "\n",
    "X_train, X_test, y_train, y_test = train_test_split(X, y, random_state = 34)\n",
    "\n",
    "y.value_counts(normalize=True)"
   ]
  },
  {
   "cell_type": "markdown",
   "id": "f6a51655",
   "metadata": {},
   "source": [
    "57% of the time the model is correct in choosing the post came from the r/CFB subreddit"
   ]
  },
  {
   "cell_type": "markdown",
   "id": "7a12a261",
   "metadata": {},
   "source": [
    "### Logistic Regression"
   ]
  },
  {
   "cell_type": "code",
   "execution_count": 6,
   "id": "051a222a",
   "metadata": {},
   "outputs": [
    {
     "name": "stdout",
     "output_type": "stream",
     "text": [
      "Cross val score: 0.8225352112676056\n",
      "{'lr__n_jobs': -1, 'lr__solver': 'liblinear', 'tfid__max_df': 0.1, 'tfid__max_features': None, 'tfid__stop_words': 'english', 'tfid__strip_accents': 'ascii'}\n"
     ]
    }
   ],
   "source": [
    "pipe = Pipeline([\n",
    "    ('tfid', TfidfVectorizer()),\n",
    "    ('lr', LogisticRegression(random_state = 34))\n",
    "])\n",
    "\n",
    "params = {\n",
    "    'tfid__stop_words': ['english'],\n",
    "    'tfid__strip_accents': ['ascii'],\n",
    "    'tfid__max_features': [None, 400, 500],\n",
    "    'tfid__max_df': [.1],\n",
    "    'lr__n_jobs': [-1],\n",
    "    'lr__solver': ['liblinear', 'lbfgs']\n",
    "}\n",
    "\n",
    "gs = GridSearchCV(pipe, param_grid = params)\n",
    "gs.fit(X_train, y_train)\n",
    "print('Cross val score:', gs.best_score_)\n",
    "print(gs.best_params_)"
   ]
  },
  {
   "cell_type": "markdown",
   "id": "46c8dfa1",
   "metadata": {},
   "source": [
    "### Cross Val Score"
   ]
  },
  {
   "cell_type": "code",
   "execution_count": 7,
   "id": "b6c85ef7",
   "metadata": {},
   "outputs": [
    {
     "name": "stdout",
     "output_type": "stream",
     "text": [
      "Accuracy: 0.8072 ± 0.0686\n"
     ]
    }
   ],
   "source": [
    "params = gs.best_params_\n",
    "scores = cross_val_score(gs, \n",
    "                         X, y,\n",
    "                         cv = 5,\n",
    "                         n_jobs = -1)\n",
    "\n",
    "print('Accuracy: {:.4f} ± {:.4f}'.format(scores.mean(), \n",
    "                                 2 * scores.std()))"
   ]
  },
  {
   "cell_type": "markdown",
   "id": "1d718eef",
   "metadata": {},
   "source": [
    "### Confusion Matrix - Logistic Regression "
   ]
  },
  {
   "cell_type": "code",
   "execution_count": 8,
   "id": "3fb9d1c3",
   "metadata": {},
   "outputs": [
    {
     "name": "stdout",
     "output_type": "stream",
     "text": [
      "Accuracy: 0.8033707865168539\n",
      "Sensitivity: 0.9455445544554455\n",
      "Precision: 0.764\n",
      "Recall: 0.9455445544554455\n",
      "F1: 0.8451327433628318\n",
      "Cross val score: 0.8225352112676056\n"
     ]
    }
   ],
   "source": [
    "logreg_pred = gs.predict(X_test)\n",
    "plot_confusion_matrix(gs, X_test, y_test, display_labels = ['CollegeBasketball', 'CFB'])\n",
    "\n",
    "plt.savefig('logreg_cf.png');\n",
    "\n",
    "print('Accuracy:', gs.score(X_test, y_test))\n",
    "print('Sensitivity:', metrics.recall_score(y_test, logreg_pred))\n",
    "print('Precision:', metrics.precision_score(y_test, logreg_pred))\n",
    "print('Recall:', metrics.recall_score(y_test, logreg_pred))\n",
    "print('F1:', metrics.f1_score(y_test, logreg_pred))\n",
    "print('Cross val score:', (gs.best_score_))"
   ]
  },
  {
   "cell_type": "markdown",
   "id": "910f533b",
   "metadata": {},
   "source": [
    "### Random Forest Classifier"
   ]
  },
  {
   "cell_type": "code",
   "execution_count": 9,
   "id": "15997893",
   "metadata": {},
   "outputs": [
    {
     "name": "stdout",
     "output_type": "stream",
     "text": [
      "Cross val score: 0.8403755868544602\n",
      "{'rf__max_depth': None, 'rf__min_samples_leaf': 1, 'rf__n_estimators': 125, 'tfid__max_df': 0.1, 'tfid__max_features': None, 'tfid__stop_words': 'english', 'tfid__strip_accents': 'ascii'}\n"
     ]
    }
   ],
   "source": [
    "pipe_2 = Pipeline([\n",
    "    ('tfid', TfidfVectorizer()),\n",
    "    ('rf', RandomForestClassifier(random_state = 34))\n",
    "])\n",
    "\n",
    "params_2 = {\n",
    "    'tfid__max_features': [None, 400, 500],\n",
    "    'tfid__stop_words': ['english'],\n",
    "    'tfid__strip_accents': ['ascii'],\n",
    "    'tfid__max_df': [.1],\n",
    "    'rf__max_depth': [None, 5, 6, 7],\n",
    "    'rf__min_samples_leaf': [1, 2, 3, 4],\n",
    "    'rf__n_estimators': [75, 100, 125],\n",
    "    \n",
    "}\n",
    "\n",
    "gs_2 = GridSearchCV(pipe_2, param_grid = params_2, n_jobs = -1)\n",
    "gs_2.fit(X_train, y_train)\n",
    "print('Cross val score:', gs_2.best_score_)\n",
    "print(gs_2.best_params_)"
   ]
  },
  {
   "cell_type": "markdown",
   "id": "4ff6ca48",
   "metadata": {},
   "source": [
    "### Cross Val Score"
   ]
  },
  {
   "cell_type": "code",
   "execution_count": 10,
   "id": "61337cb3",
   "metadata": {},
   "outputs": [
    {
     "name": "stdout",
     "output_type": "stream",
     "text": [
      "Accuracy: 0.8128 ± 0.0686\n"
     ]
    }
   ],
   "source": [
    "params_2 = gs_2.best_params_\n",
    "scores_2 = cross_val_score(gs_2, \n",
    "                         X, y,\n",
    "                         cv = 5,\n",
    "                         n_jobs = -1)\n",
    "\n",
    "print('Accuracy: {:.4f} ± {:.4f}'.format(scores_2.mean(), \n",
    "                                 2 * scores.std()))"
   ]
  },
  {
   "cell_type": "markdown",
   "id": "b3da4324",
   "metadata": {},
   "source": [
    "### Confusion Matrix - Random Forest "
   ]
  },
  {
   "cell_type": "code",
   "execution_count": 11,
   "id": "c9f35928",
   "metadata": {},
   "outputs": [
    {
     "name": "stdout",
     "output_type": "stream",
     "text": [
      "Accuracy: 0.8061797752808989\n",
      "Sensitivity: 0.9158415841584159\n",
      "Precision: 0.7805907172995781\n",
      "Recall: 0.9158415841584159\n",
      "F1: 0.8428246013667428\n",
      "Cross val score: 0.8403755868544602\n"
     ]
    }
   ],
   "source": [
    "rf_pred = gs_2.predict(X_test)\n",
    "plot_confusion_matrix(gs_2, X_test, y_test, display_labels = ['CollegeBasketball', 'CFB'])\n",
    "\n",
    "#plt.savefig('rf_cf.png');\n",
    "\n",
    "print('Accuracy:', gs_2.score(X_test, y_test))\n",
    "print('Sensitivity:', metrics.recall_score(y_test, rf_pred))\n",
    "print('Precision:', metrics.precision_score(y_test, rf_pred))\n",
    "print('Recall:', metrics.recall_score(y_test, rf_pred))\n",
    "print('F1:', metrics.f1_score(y_test, rf_pred))\n",
    "print('Cross val score:', (gs_2.best_score_))"
   ]
  }
 ],
 "metadata": {
  "kernelspec": {
   "display_name": "Python 3",
   "language": "python",
   "name": "python3"
  },
  "language_info": {
   "codemirror_mode": {
    "name": "ipython",
    "version": 3
   },
   "file_extension": ".py",
   "mimetype": "text/x-python",
   "name": "python",
   "nbconvert_exporter": "python",
   "pygments_lexer": "ipython3",
   "version": "3.8.8"
  }
 },
 "nbformat": 4,
 "nbformat_minor": 5
}
