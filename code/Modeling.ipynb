{
 "cells": [
  {
   "cell_type": "code",
   "execution_count": 1,
   "id": "5495088b",
   "metadata": {},
   "outputs": [],
   "source": [
    "import numpy as np\n",
    "import pandas as pd\n",
    "import matplotlib.pyplot as plt\n",
    "import seaborn as sns\n",
    "\n",
    "from sklearn.linear_model import LogisticRegression\n",
    "from sklearn.feature_extraction import text\n",
    "from sklearn.feature_extraction.text import CountVectorizer, TfidfVectorizer\n",
    "from sklearn.pipeline import Pipeline\n",
    "from sklearn.model_selection import train_test_split, GridSearchCV, cross_val_score\n",
    "from sklearn.metrics import plot_confusion_matrix\n",
    "from sklearn.ensemble import RandomForestClassifier\n",
    "from sklearn.tree import DecisionTreeClassifier\n",
    "import sklearn.metrics as metrics\n",
    "\n",
    "import spacy\n",
    "from spacytextblob.spacytextblob import SpacyTextBlob\n",
    "\n",
    "import warnings\n",
    "warnings.filterwarnings('ignore')"
   ]
  },
  {
   "cell_type": "code",
   "execution_count": 2,
   "id": "f28ddbd1",
   "metadata": {},
   "outputs": [
    {
     "name": "stdout",
     "output_type": "stream",
     "text": [
      "(1421, 7)\n"
     ]
    },
    {
     "data": {
      "text/html": [
       "<div>\n",
       "<style scoped>\n",
       "    .dataframe tbody tr th:only-of-type {\n",
       "        vertical-align: middle;\n",
       "    }\n",
       "\n",
       "    .dataframe tbody tr th {\n",
       "        vertical-align: top;\n",
       "    }\n",
       "\n",
       "    .dataframe thead th {\n",
       "        text-align: right;\n",
       "    }\n",
       "</style>\n",
       "<table border=\"1\" class=\"dataframe\">\n",
       "  <thead>\n",
       "    <tr style=\"text-align: right;\">\n",
       "      <th></th>\n",
       "      <th>selftext</th>\n",
       "      <th>subreddit</th>\n",
       "      <th>title</th>\n",
       "      <th>post</th>\n",
       "      <th>post_length</th>\n",
       "      <th>post_word_count</th>\n",
       "      <th>stemmed_post</th>\n",
       "    </tr>\n",
       "  </thead>\n",
       "  <tbody>\n",
       "    <tr>\n",
       "      <th>0</th>\n",
       "      <td>I have seen several times during all the re-al...</td>\n",
       "      <td>1</td>\n",
       "      <td>How do research budgets impact conferences?</td>\n",
       "      <td>How do research budgets impact conferences? I ...</td>\n",
       "      <td>570</td>\n",
       "      <td>89</td>\n",
       "      <td>how do research budget impact confer ? i have ...</td>\n",
       "    </tr>\n",
       "    <tr>\n",
       "      <th>1</th>\n",
       "      <td>[https://www.espn.com/college-football/story/\\...</td>\n",
       "      <td>1</td>\n",
       "      <td>Penn State AD says the Big Ten has more than m...</td>\n",
       "      <td>Penn State AD says the Big Ten has more than m...</td>\n",
       "      <td>889</td>\n",
       "      <td>103</td>\n",
       "      <td>penn state ad say the big ten ha more than mon...</td>\n",
       "    </tr>\n",
       "    <tr>\n",
       "      <th>2</th>\n",
       "      <td>247 Profile: https://247sports.com/Player/Trav...</td>\n",
       "      <td>1</td>\n",
       "      <td>2022 5* DT Travis Shaw commits to North Carolina</td>\n",
       "      <td>2022 5* DT Travis Shaw commits to North Caroli...</td>\n",
       "      <td>186</td>\n",
       "      <td>13</td>\n",
       "      <td>2022 5 * dt travi shaw commit to north carolin...</td>\n",
       "    </tr>\n",
       "    <tr>\n",
       "      <th>3</th>\n",
       "      <td>We are one week away from the greatest sport i...</td>\n",
       "      <td>1</td>\n",
       "      <td>One Week Away</td>\n",
       "      <td>One Week Away We are one week away from the gr...</td>\n",
       "      <td>444</td>\n",
       "      <td>76</td>\n",
       "      <td>one week away we are one week away from the gr...</td>\n",
       "    </tr>\n",
       "    <tr>\n",
       "      <th>4</th>\n",
       "      <td>[https://twitter.com/naevail/status/1429186980...</td>\n",
       "      <td>1</td>\n",
       "      <td>2022 3* S Nathan Vail commits to Duke</td>\n",
       "      <td>2022 3* S Nathan Vail commits to Duke [  [</td>\n",
       "      <td>266</td>\n",
       "      <td>9</td>\n",
       "      <td>2022 3 * s nathan vail commit to duke [ [</td>\n",
       "    </tr>\n",
       "  </tbody>\n",
       "</table>\n",
       "</div>"
      ],
      "text/plain": [
       "                                            selftext  subreddit  \\\n",
       "0  I have seen several times during all the re-al...          1   \n",
       "1  [https://www.espn.com/college-football/story/\\...          1   \n",
       "2  247 Profile: https://247sports.com/Player/Trav...          1   \n",
       "3  We are one week away from the greatest sport i...          1   \n",
       "4  [https://twitter.com/naevail/status/1429186980...          1   \n",
       "\n",
       "                                               title  \\\n",
       "0        How do research budgets impact conferences?   \n",
       "1  Penn State AD says the Big Ten has more than m...   \n",
       "2   2022 5* DT Travis Shaw commits to North Carolina   \n",
       "3                                      One Week Away   \n",
       "4              2022 3* S Nathan Vail commits to Duke   \n",
       "\n",
       "                                                post  post_length  \\\n",
       "0  How do research budgets impact conferences? I ...          570   \n",
       "1  Penn State AD says the Big Ten has more than m...          889   \n",
       "2  2022 5* DT Travis Shaw commits to North Caroli...          186   \n",
       "3  One Week Away We are one week away from the gr...          444   \n",
       "4         2022 3* S Nathan Vail commits to Duke [  [          266   \n",
       "\n",
       "   post_word_count                                       stemmed_post  \n",
       "0               89  how do research budget impact confer ? i have ...  \n",
       "1              103  penn state ad say the big ten ha more than mon...  \n",
       "2               13  2022 5 * dt travi shaw commit to north carolin...  \n",
       "3               76  one week away we are one week away from the gr...  \n",
       "4                9          2022 3 * s nathan vail commit to duke [ [  "
      ]
     },
     "execution_count": 2,
     "metadata": {},
     "output_type": "execute_result"
    }
   ],
   "source": [
    "# https://stackoverflow.com/questions/33998740/error-in-reading-a-csv-file-in-pandascparsererror-error-tokenizing-data-c-err\n",
    "df = pd.read_csv('../datasets/cfb_cbball', lineterminator='\\n')\n",
    "\n",
    "print(df.shape)\n",
    "df.head()"
   ]
  },
  {
   "cell_type": "code",
   "execution_count": 3,
   "id": "7028c582",
   "metadata": {},
   "outputs": [
    {
     "data": {
      "text/plain": [
       "CountVectorizer(stop_words=frozenset({'a', 'about', 'above', 'across', 'after',\n",
       "                                      'afterwards', 'again', 'against', 'all',\n",
       "                                      'almost', 'alone', 'along', 'already',\n",
       "                                      'also', 'although', 'always', 'am',\n",
       "                                      'among', 'amongst', 'amoungst', 'amount',\n",
       "                                      'an', 'and', 'another', 'any', 'anyhow',\n",
       "                                      'anyone', 'anything', 'anyway',\n",
       "                                      'anywhere', ...}))"
      ]
     },
     "execution_count": 3,
     "metadata": {},
     "output_type": "execute_result"
    }
   ],
   "source": [
    "cfb_stop_words = ['football', 'playoff', 'field', 'gameday', 'quarterback', 'heisman']\n",
    "cfb_stop_words = text.ENGLISH_STOP_WORDS.union(cfb_stop_words)\n",
    "\n",
    "cfb_cvec = CountVectorizer(stop_words = cfb_stop_words)\n",
    "cfb_sub = df['selftext'][df['subreddit'] == 1]\n",
    "cfb_cvec.fit(cfb_sub)"
   ]
  },
  {
   "cell_type": "code",
   "execution_count": 4,
   "id": "84d432b9",
   "metadata": {},
   "outputs": [
    {
     "data": {
      "text/plain": [
       "CountVectorizer(stop_words=frozenset({'a', 'about', 'above', 'across', 'after',\n",
       "                                      'afterwards', 'again', 'against', 'all',\n",
       "                                      'almost', 'alone', 'along', 'already',\n",
       "                                      'also', 'although', 'always', 'am',\n",
       "                                      'among', 'amongst', 'amoungst', 'amount',\n",
       "                                      'an', 'and', 'another', 'any', 'anyhow',\n",
       "                                      'anyone', 'anything', 'anyway',\n",
       "                                      'anywhere', ...}))"
      ]
     },
     "execution_count": 4,
     "metadata": {},
     "output_type": "execute_result"
    }
   ],
   "source": [
    "bball_stop_words = ['basketball', 'tournament', 'court', 'dribble', 'shoot', 'league']\n",
    "bball_stop_words = text.ENGLISH_STOP_WORDS.union(bball_stop_words)\n",
    "\n",
    "bball_cvec = CountVectorizer(stop_words = bball_stop_words)\n",
    "bball_sub = df['selftext'][df['subreddit'] == 0]\n",
    "bball_cvec.fit(bball_sub)"
   ]
  },
  {
   "cell_type": "code",
   "execution_count": 5,
   "id": "125f4267",
   "metadata": {},
   "outputs": [],
   "source": [
    "stop_words = cfb_stop_words.union(bball_stop_words)"
   ]
  },
  {
   "cell_type": "code",
   "execution_count": null,
   "id": "e3a06007",
   "metadata": {},
   "outputs": [],
   "source": []
  },
  {
   "cell_type": "code",
   "execution_count": 6,
   "id": "2eddd67f",
   "metadata": {},
   "outputs": [
    {
     "data": {
      "text/plain": [
       "1    0.574243\n",
       "0    0.425757\n",
       "Name: subreddit, dtype: float64"
      ]
     },
     "execution_count": 6,
     "metadata": {},
     "output_type": "execute_result"
    }
   ],
   "source": [
    "X = df['post']\n",
    "y = df['subreddit']\n",
    "\n",
    "y.value_counts(normalize=True)"
   ]
  },
  {
   "cell_type": "markdown",
   "id": "f6a51655",
   "metadata": {},
   "source": [
    "57% of the time the model is correct in choosing the post came from the r/CFB subreddit"
   ]
  },
  {
   "cell_type": "code",
   "execution_count": 7,
   "id": "9d0461d9",
   "metadata": {},
   "outputs": [],
   "source": [
    "X_train, X_test, y_train, y_test = train_test_split(X, y, random_state = 34)"
   ]
  },
  {
   "cell_type": "code",
   "execution_count": 8,
   "id": "051a222a",
   "metadata": {},
   "outputs": [
    {
     "name": "stdout",
     "output_type": "stream",
     "text": [
      "Cross val score: 0.7896713615023474\n",
      "{'tfid__max_features': None, 'tfid__stop_words': frozenset({'own', 'anyway', 'then', 'yet', 'already', 'that', 'rather', 'hereupon', 'among', 'ours', 'further', 'third', 'least', 'anyone', 'mostly', 'thereupon', 'side', 'amongst', 'i', 'whence', 'along', 'hundred', 'whole', 'but', 'ourselves', 'much', 'hence', 'which', 'find', 'this', 'something', 'ten', 'bottom', 'another', 'very', 'eg', 'how', 'almost', 'whereafter', 'each', 'onto', 'between', 'becoming', 'into', 'while', 'ltd', 'only', 'yours', 'everyone', 'beforehand', 'whom', 'keep', 'their', 'perhaps', 'from', 'beyond', 'be', 'however', 'therefore', 'cant', 'done', 'mine', 'though', 'about', 'see', 'yourself', 'below', 'meanwhile', 'who', 'latterly', 'during', 'sincere', 'whose', 'them', 'behind', 'seem', 'describe', 'thus', 'detail', 'cannot', 'nor', 'heisman', 'afterwards', 'where', 'ie', 'seems', 'being', 'give', 'hereafter', 'of', 'sixty', 'him', 'without', 'namely', 'herein', 'empty', 'con', 'do', 'un', 'take', 'playoff', 'ever', 'whereupon', 'against', 'nowhere', 'us', 'whereas', 'otherwise', 'what', 'one', 'etc', 'shoot', 'he', 'the', 'will', 'becomes', 'go', 'become', 'show', 'part', 'itself', 'move', 'thick', 'neither', 'bill', 'some', 'five', 'else', 'noone', 'these', 'elsewhere', 'is', 'fifty', 'herself', 'both', 'besides', 'made', 'hereby', 'were', 'put', 'so', 'found', 'with', 'down', 'fill', 'more', 'league', 'several', 'once', 'sometime', 'can', 'myself', 'its', 'before', 'whatever', 'twelve', 'could', 'fifteen', 'co', 'when', 'after', 'wherever', 'whoever', 'field', 'per', 're', 'last', 'himself', 'such', 'nine', 'together', 'would', 'gameday', 'also', 'moreover', 'here', 'latter', 'court', 'through', 'all', 'until', 'inc', 'since', 'those', 'anywhere', 'thereafter', 'sometimes', 'over', 'are', 'three', 'football', 'because', 'get', 'de', 'name', 'they', 'on', 'front', 'an', 'became', 'therein', 'why', 'formerly', 'themselves', 'somehow', 'by', 'my', 'interest', 'eleven', 'we', 'always', 'not', 'too', 'within', 'might', 'nevertheless', 'under', 'has', 'someone', 'next', 'thru', 'although', 'amount', 'full', 'you', 'whether', 'in', 'am', 'have', 'thereby', 'less', 'again', 'anyhow', 'there', 'nothing', 'two', 'couldnt', 'enough', 'should', 'across', 'system', 'well', 'for', 'wherein', 'may', 'forty', 'hers', 'at', 'many', 'than', 'please', 'eight', 'up', 'others', 'everywhere', 'throughout', 'her', 'either', 'his', 'to', 'first', 'same', 'as', 'except', 'it', 'back', 'none', 'yourselves', 'call', 'top', 'due', 'indeed', 'our', 'via', 'whither', 'hasnt', 'no', 'every', 'toward', 'never', 'fire', 'nobody', 'upon', 'had', 'was', 'most', 'amoungst', 'even', 'serious', 'out', 'cry', 'she', 'basketball', 'thence', 'me', 'if', 'six', 'around', 'seemed', 'and', 'now', 'dribble', 'often', 'towards', 'four', 'off', 'seeming', 'tournament', 'any', 'or', 'still', 'twenty', 'former', 'whereby', 'above', 'few', 'quarterback', 'whenever', 'thin', 'other', 'beside', 'anything', 'everything', 'must', 'alone', 'a', 'been', 'your', 'mill', 'somewhere'})}\n"
     ]
    }
   ],
   "source": [
    "pipe = Pipeline([\n",
    "    ('tfid', TfidfVectorizer()),\n",
    "    ('lr', LogisticRegression())\n",
    "])\n",
    "\n",
    "params = {\n",
    "    'tfid__stop_words': [stop_words],\n",
    "    'tfid__max_features': [None, 300, 400],\n",
    "}\n",
    "\n",
    "gs = GridSearchCV(pipe, param_grid = params)\n",
    "gs.fit(X_train, y_train)\n",
    "print('Cross val score:', gs.best_score_)\n",
    "print(gs.best_params_)"
   ]
  },
  {
   "cell_type": "code",
   "execution_count": 9,
   "id": "266890ce",
   "metadata": {},
   "outputs": [
    {
     "data": {
      "text/plain": [
       "0.7724719101123596"
      ]
     },
     "execution_count": 9,
     "metadata": {},
     "output_type": "execute_result"
    }
   ],
   "source": [
    "gs.score(X_test, y_test)"
   ]
  },
  {
   "cell_type": "code",
   "execution_count": 10,
   "id": "d049cf54",
   "metadata": {},
   "outputs": [
    {
     "data": {
      "text/plain": [
       "0.22752808988764045"
      ]
     },
     "execution_count": 10,
     "metadata": {},
     "output_type": "execute_result"
    }
   ],
   "source": [
    "pred = gs.predict(X_test)\n",
    "(pred != y_test).mean()"
   ]
  },
  {
   "cell_type": "code",
   "execution_count": 11,
   "id": "3fb9d1c3",
   "metadata": {},
   "outputs": [
    {
     "name": "stdout",
     "output_type": "stream",
     "text": [
      "Accuracy: 0.7724719101123596\n",
      "Sensitivity: 0.9405940594059405\n",
      "Precision: 0.7335907335907336\n",
      "F1 Score: 0.824295010845987\n"
     ]
    },
    {
     "data": {
      "image/png": "[encoded data removed]",
      "text/plain": [
       "<Figure size 432x288 with 2 Axes>"
      ]
     },
     "metadata": {
      "needs_background": "light"
     },
     "output_type": "display_data"
    }
   ],
   "source": [
    "print('Accuracy:', gs.score(X_test, y_test))\n",
    "print('Sensitivity:', metrics.recall_score(y_test, pred))\n",
    "print('Precision:', metrics.precision_score(y_test, pred))\n",
    "print('F1 Score:', metrics.f1_score(y_test, pred))\n",
    "\n",
    "plot_confusion_matrix(gs, X_test, y_test);"
   ]
  },
  {
   "cell_type": "code",
   "execution_count": 12,
   "id": "15997893",
   "metadata": {},
   "outputs": [
    {
     "name": "stdout",
     "output_type": "stream",
     "text": [
      "Cross val score: 0.807511737089202\n",
      "{'rf__max_depth': None, 'rf__min_samples_leaf': 1, 'rf__n_estimators': 125}\n"
     ]
    }
   ],
   "source": [
    "pipe_2 = Pipeline([\n",
    "    ('tfid', TfidfVectorizer(stop_words = stop_words)),\n",
    "    ('rf', RandomForestClassifier())\n",
    "])\n",
    "\n",
    "params_2 = {\n",
    "    'rf__max_depth': [None, 5, 6, 7],\n",
    "    'rf__min_samples_leaf': [1, 3, 5, 7],\n",
    "    'rf__n_estimators': [75, 100, 125]\n",
    "}\n",
    "\n",
    "gs_2 = GridSearchCV(pipe_2, param_grid=params_2)\n",
    "gs_2.fit(X_train, y_train)\n",
    "print('Cross val score:', gs_2.best_score_)\n",
    "print(gs_2.best_params_)"
   ]
  },
  {
   "cell_type": "code",
   "execution_count": 13,
   "id": "2285d595",
   "metadata": {},
   "outputs": [
    {
     "data": {
      "text/plain": [
       "0.7696629213483146"
      ]
     },
     "execution_count": 13,
     "metadata": {},
     "output_type": "execute_result"
    }
   ],
   "source": [
    "gs_2.score(X_test, y_test)"
   ]
  },
  {
   "cell_type": "code",
   "execution_count": 14,
   "id": "4d1ae184",
   "metadata": {},
   "outputs": [
    {
     "data": {
      "text/plain": [
       "0.2303370786516854"
      ]
     },
     "execution_count": 14,
     "metadata": {},
     "output_type": "execute_result"
    }
   ],
   "source": [
    "pred_2 = gs_2.predict(X_test)\n",
    "(pred_2 != y_test).mean()"
   ]
  },
  {
   "cell_type": "code",
   "execution_count": 15,
   "id": "c9f35928",
   "metadata": {},
   "outputs": [
    {
     "name": "stdout",
     "output_type": "stream",
     "text": [
      "Accuracy: 0.7696629213483146\n",
      "Sensitivity: 0.9257425742574258\n",
      "Precision: 0.7362204724409449\n",
      "F1 Score: 0.8201754385964913\n"
     ]
    },
    {
     "data": {
      "image/png": "[encoded data removed]",
      "text/plain": [
       "<Figure size 432x288 with 2 Axes>"
      ]
     },
     "metadata": {
      "needs_background": "light"
     },
     "output_type": "display_data"
    }
   ],
   "source": [
    "print('Accuracy:', gs_2.score(X_test, y_test))\n",
    "print('Sensitivity:', metrics.recall_score(y_test, pred_2))\n",
    "print('Precision:', metrics.precision_score(y_test, pred_2))\n",
    "print('F1 Score:', metrics.f1_score(y_test, pred_2))\n",
    "\n",
    "plot_confusion_matrix(gs_2, X_test, y_test);"
   ]
  }
 ],
 "metadata": {
  "kernelspec": {
   "display_name": "Python 3",
   "language": "python",
   "name": "python3"
  },
  "language_info": {
   "codemirror_mode": {
    "name": "ipython",
    "version": 3
   },
   "file_extension": ".py",
   "mimetype": "text/x-python",
   "name": "python",
   "nbconvert_exporter": "python",
   "pygments_lexer": "ipython3",
   "version": "3.8.8"
  }
 },
 "nbformat": 4,
 "nbformat_minor": 5
}
