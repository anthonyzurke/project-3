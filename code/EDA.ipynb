{
 "cells": [
  {
   "cell_type": "code",
   "execution_count": 1,
   "id": "4fe17729",
   "metadata": {},
   "outputs": [],
   "source": [
    "import numpy as np\n",
    "import pandas as pd"
   ]
  },
  {
   "cell_type": "code",
   "execution_count": 2,
   "id": "5f5b9c49",
   "metadata": {},
   "outputs": [
    {
     "data": {
      "text/html": [
       "<div>\n",
       "<style scoped>\n",
       "    .dataframe tbody tr th:only-of-type {\n",
       "        vertical-align: middle;\n",
       "    }\n",
       "\n",
       "    .dataframe tbody tr th {\n",
       "        vertical-align: top;\n",
       "    }\n",
       "\n",
       "    .dataframe thead th {\n",
       "        text-align: right;\n",
       "    }\n",
       "</style>\n",
       "<table border=\"1\" class=\"dataframe\">\n",
       "  <thead>\n",
       "    <tr style=\"text-align: right;\">\n",
       "      <th></th>\n",
       "      <th>selftext</th>\n",
       "      <th>subreddit</th>\n",
       "      <th>title</th>\n",
       "    </tr>\n",
       "  </thead>\n",
       "  <tbody>\n",
       "    <tr>\n",
       "      <th>0</th>\n",
       "      <td>This is a pretty stark contrast and makes the ...</td>\n",
       "      <td>baseball</td>\n",
       "      <td>Rays pitching pre sticky substance ban: 79 ERA...</td>\n",
       "    </tr>\n",
       "    <tr>\n",
       "      <th>1</th>\n",
       "      <td>NaN</td>\n",
       "      <td>baseball</td>\n",
       "      <td>[Tierney] In mid-July, the Mets had a 76% chan...</td>\n",
       "    </tr>\n",
       "    <tr>\n",
       "      <th>2</th>\n",
       "      <td>NaN</td>\n",
       "      <td>baseball</td>\n",
       "      <td>[Rosenthal] Padres close to signing Jake Arrie...</td>\n",
       "    </tr>\n",
       "    <tr>\n",
       "      <th>3</th>\n",
       "      <td>NaN</td>\n",
       "      <td>baseball</td>\n",
       "      <td>[Branson] Fergie Jenkins had most total bases ...</td>\n",
       "    </tr>\n",
       "    <tr>\n",
       "      <th>4</th>\n",
       "      <td>NaN</td>\n",
       "      <td>baseball</td>\n",
       "      <td>A T260 card set a world record after selling f...</td>\n",
       "    </tr>\n",
       "  </tbody>\n",
       "</table>\n",
       "</div>"
      ],
      "text/plain": [
       "                                            selftext subreddit  \\\n",
       "0  This is a pretty stark contrast and makes the ...  baseball   \n",
       "1                                                NaN  baseball   \n",
       "2                                                NaN  baseball   \n",
       "3                                                NaN  baseball   \n",
       "4                                                NaN  baseball   \n",
       "\n",
       "                                               title  \n",
       "0  Rays pitching pre sticky substance ban: 79 ERA...  \n",
       "1  [Tierney] In mid-July, the Mets had a 76% chan...  \n",
       "2  [Rosenthal] Padres close to signing Jake Arrie...  \n",
       "3  [Branson] Fergie Jenkins had most total bases ...  \n",
       "4  A T260 card set a world record after selling f...  "
      ]
     },
     "execution_count": 2,
     "metadata": {},
     "output_type": "execute_result"
    }
   ],
   "source": [
    "df_baseball = pd.read_csv('../datasets/subreddit_baseball', usecols = ['title', 'subreddit', 'selftext'])\n",
    "df_baseball.head()"
   ]
  },
  {
   "cell_type": "code",
   "execution_count": 7,
   "id": "c4b9d4e8",
   "metadata": {},
   "outputs": [
    {
     "name": "stdout",
     "output_type": "stream",
     "text": [
      "<class 'pandas.core.frame.DataFrame'>\n",
      "RangeIndex: 1000 entries, 0 to 999\n",
      "Data columns (total 3 columns):\n",
      " #   Column     Non-Null Count  Dtype \n",
      "---  ------     --------------  ----- \n",
      " 0   selftext   295 non-null    object\n",
      " 1   subreddit  1000 non-null   object\n",
      " 2   title      1000 non-null   object\n",
      "dtypes: object(3)\n",
      "memory usage: 23.6+ KB\n"
     ]
    }
   ],
   "source": [
    "df_baseball.info()"
   ]
  },
  {
   "cell_type": "code",
   "execution_count": null,
   "id": "63545f49",
   "metadata": {},
   "outputs": [],
   "source": []
  }
 ],
 "metadata": {
  "kernelspec": {
   "display_name": "Python 3",
   "language": "python",
   "name": "python3"
  },
  "language_info": {
   "codemirror_mode": {
    "name": "ipython",
    "version": 3
   },
   "file_extension": ".py",
   "mimetype": "text/x-python",
   "name": "python",
   "nbconvert_exporter": "python",
   "pygments_lexer": "ipython3",
   "version": "3.8.8"
  }
 },
 "nbformat": 4,
 "nbformat_minor": 5
}
