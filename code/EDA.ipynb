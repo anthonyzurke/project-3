{
 "cells": [
  {
   "cell_type": "markdown",
   "id": "3db75931",
   "metadata": {},
   "source": [
    "### Libraries"
   ]
  },
  {
   "cell_type": "code",
   "execution_count": 1,
   "id": "4fe17729",
   "metadata": {},
   "outputs": [],
   "source": [
    "import numpy as np\n",
    "import pandas as pd\n",
    "import matplotlib.pyplot as plt\n",
    "import seaborn as sns"
   ]
  },
  {
   "cell_type": "markdown",
   "id": "249a24da",
   "metadata": {},
   "source": [
    "### Data"
   ]
  },
  {
   "cell_type": "code",
   "execution_count": 2,
   "id": "5f5b9c49",
   "metadata": {},
   "outputs": [
    {
     "name": "stdout",
     "output_type": "stream",
     "text": [
      "(1000, 3)\n"
     ]
    },
    {
     "data": {
      "text/html": [
       "<div>\n",
       "<style scoped>\n",
       "    .dataframe tbody tr th:only-of-type {\n",
       "        vertical-align: middle;\n",
       "    }\n",
       "\n",
       "    .dataframe tbody tr th {\n",
       "        vertical-align: top;\n",
       "    }\n",
       "\n",
       "    .dataframe thead th {\n",
       "        text-align: right;\n",
       "    }\n",
       "</style>\n",
       "<table border=\"1\" class=\"dataframe\">\n",
       "  <thead>\n",
       "    <tr style=\"text-align: right;\">\n",
       "      <th></th>\n",
       "      <th>selftext</th>\n",
       "      <th>subreddit</th>\n",
       "      <th>title</th>\n",
       "    </tr>\n",
       "  </thead>\n",
       "  <tbody>\n",
       "    <tr>\n",
       "      <th>0</th>\n",
       "      <td>NaN</td>\n",
       "      <td>MichiganWolverines</td>\n",
       "      <td>[Lance Lysowski] Breaking: Sabres No. 1 draft ...</td>\n",
       "    </tr>\n",
       "    <tr>\n",
       "      <th>1</th>\n",
       "      <td>I'm coming for the Washington game and I'm won...</td>\n",
       "      <td>MichiganWolverines</td>\n",
       "      <td>Golf Course Tailgating</td>\n",
       "    </tr>\n",
       "    <tr>\n",
       "      <th>2</th>\n",
       "      <td>Coming up from cincy for the western game/Labo...</td>\n",
       "      <td>MichiganWolverines</td>\n",
       "      <td>Western weekend</td>\n",
       "    </tr>\n",
       "    <tr>\n",
       "      <th>3</th>\n",
       "      <td>NaN</td>\n",
       "      <td>MichiganWolverines</td>\n",
       "      <td>The big house at night, long exposure</td>\n",
       "    </tr>\n",
       "    <tr>\n",
       "      <th>4</th>\n",
       "      <td>Whenever people ask me how long covid will las...</td>\n",
       "      <td>MichiganWolverines</td>\n",
       "      <td>How long will covid last?</td>\n",
       "    </tr>\n",
       "  </tbody>\n",
       "</table>\n",
       "</div>"
      ],
      "text/plain": [
       "                                            selftext           subreddit  \\\n",
       "0                                                NaN  MichiganWolverines   \n",
       "1  I'm coming for the Washington game and I'm won...  MichiganWolverines   \n",
       "2  Coming up from cincy for the western game/Labo...  MichiganWolverines   \n",
       "3                                                NaN  MichiganWolverines   \n",
       "4  Whenever people ask me how long covid will las...  MichiganWolverines   \n",
       "\n",
       "                                               title  \n",
       "0  [Lance Lysowski] Breaking: Sabres No. 1 draft ...  \n",
       "1                             Golf Course Tailgating  \n",
       "2                                    Western weekend  \n",
       "3              The big house at night, long exposure  \n",
       "4                          How long will covid last?  "
      ]
     },
     "execution_count": 2,
     "metadata": {},
     "output_type": "execute_result"
    }
   ],
   "source": [
    "df_mich = pd.read_csv('../datasets/subreddit_michigan', usecols = ['title', 'subreddit', 'selftext'])\n",
    "print(df_mich.shape)\n",
    "df_mich.head()"
   ]
  },
  {
   "cell_type": "code",
   "execution_count": 3,
   "id": "63545f49",
   "metadata": {},
   "outputs": [
    {
     "name": "stdout",
     "output_type": "stream",
     "text": [
      "(1000, 3)\n"
     ]
    },
    {
     "data": {
      "text/html": [
       "<div>\n",
       "<style scoped>\n",
       "    .dataframe tbody tr th:only-of-type {\n",
       "        vertical-align: middle;\n",
       "    }\n",
       "\n",
       "    .dataframe tbody tr th {\n",
       "        vertical-align: top;\n",
       "    }\n",
       "\n",
       "    .dataframe thead th {\n",
       "        text-align: right;\n",
       "    }\n",
       "</style>\n",
       "<table border=\"1\" class=\"dataframe\">\n",
       "  <thead>\n",
       "    <tr style=\"text-align: right;\">\n",
       "      <th></th>\n",
       "      <th>selftext</th>\n",
       "      <th>subreddit</th>\n",
       "      <th>title</th>\n",
       "    </tr>\n",
       "  </thead>\n",
       "  <tbody>\n",
       "    <tr>\n",
       "      <th>0</th>\n",
       "      <td>NaN</td>\n",
       "      <td>OhioStateFootball</td>\n",
       "      <td>Only real ones remember</td>\n",
       "    </tr>\n",
       "    <tr>\n",
       "      <th>1</th>\n",
       "      <td>Hi all, I am looking to sell my season tickets...</td>\n",
       "      <td>OhioStateFootball</td>\n",
       "      <td>Selling off my OSU season tickets.</td>\n",
       "    </tr>\n",
       "    <tr>\n",
       "      <th>2</th>\n",
       "      <td>\\n\\n[View Poll](https://www.reddit.com/poll/p7...</td>\n",
       "      <td>OhioStateFootball</td>\n",
       "      <td>Which QB would you rather have?</td>\n",
       "    </tr>\n",
       "    <tr>\n",
       "      <th>3</th>\n",
       "      <td>Hey buckeye fans, I’m a college football fan w...</td>\n",
       "      <td>OhioStateFootball</td>\n",
       "      <td>Ohio State Football Historical Archive?</td>\n",
       "    </tr>\n",
       "    <tr>\n",
       "      <th>4</th>\n",
       "      <td>\\n\\n[View Poll](https://www.reddit.com/poll/p7...</td>\n",
       "      <td>OhioStateFootball</td>\n",
       "      <td>Which young defender will make the biggest imp...</td>\n",
       "    </tr>\n",
       "  </tbody>\n",
       "</table>\n",
       "</div>"
      ],
      "text/plain": [
       "                                            selftext          subreddit  \\\n",
       "0                                                NaN  OhioStateFootball   \n",
       "1  Hi all, I am looking to sell my season tickets...  OhioStateFootball   \n",
       "2  \\n\\n[View Poll](https://www.reddit.com/poll/p7...  OhioStateFootball   \n",
       "3  Hey buckeye fans, I’m a college football fan w...  OhioStateFootball   \n",
       "4  \\n\\n[View Poll](https://www.reddit.com/poll/p7...  OhioStateFootball   \n",
       "\n",
       "                                               title  \n",
       "0                            Only real ones remember  \n",
       "1                 Selling off my OSU season tickets.  \n",
       "2                    Which QB would you rather have?  \n",
       "3            Ohio State Football Historical Archive?  \n",
       "4  Which young defender will make the biggest imp...  "
      ]
     },
     "execution_count": 3,
     "metadata": {},
     "output_type": "execute_result"
    }
   ],
   "source": [
    "df_osu = pd.read_csv('../datasets/subreddit_ohiostate', usecols = ['title', 'subreddit', 'selftext'])\n",
    "print(df_osu.shape)\n",
    "df_osu.head()"
   ]
  },
  {
   "cell_type": "code",
   "execution_count": 4,
   "id": "c1cfd6e8",
   "metadata": {},
   "outputs": [
    {
     "name": "stdout",
     "output_type": "stream",
     "text": [
      "(2000, 3)\n"
     ]
    },
    {
     "data": {
      "text/html": [
       "<div>\n",
       "<style scoped>\n",
       "    .dataframe tbody tr th:only-of-type {\n",
       "        vertical-align: middle;\n",
       "    }\n",
       "\n",
       "    .dataframe tbody tr th {\n",
       "        vertical-align: top;\n",
       "    }\n",
       "\n",
       "    .dataframe thead th {\n",
       "        text-align: right;\n",
       "    }\n",
       "</style>\n",
       "<table border=\"1\" class=\"dataframe\">\n",
       "  <thead>\n",
       "    <tr style=\"text-align: right;\">\n",
       "      <th></th>\n",
       "      <th>selftext</th>\n",
       "      <th>subreddit</th>\n",
       "      <th>title</th>\n",
       "    </tr>\n",
       "  </thead>\n",
       "  <tbody>\n",
       "    <tr>\n",
       "      <th>0</th>\n",
       "      <td>NaN</td>\n",
       "      <td>MichiganWolverines</td>\n",
       "      <td>[Lance Lysowski] Breaking: Sabres No. 1 draft ...</td>\n",
       "    </tr>\n",
       "    <tr>\n",
       "      <th>1</th>\n",
       "      <td>I'm coming for the Washington game and I'm won...</td>\n",
       "      <td>MichiganWolverines</td>\n",
       "      <td>Golf Course Tailgating</td>\n",
       "    </tr>\n",
       "    <tr>\n",
       "      <th>2</th>\n",
       "      <td>Coming up from cincy for the western game/Labo...</td>\n",
       "      <td>MichiganWolverines</td>\n",
       "      <td>Western weekend</td>\n",
       "    </tr>\n",
       "    <tr>\n",
       "      <th>3</th>\n",
       "      <td>NaN</td>\n",
       "      <td>MichiganWolverines</td>\n",
       "      <td>The big house at night, long exposure</td>\n",
       "    </tr>\n",
       "    <tr>\n",
       "      <th>4</th>\n",
       "      <td>Whenever people ask me how long covid will las...</td>\n",
       "      <td>MichiganWolverines</td>\n",
       "      <td>How long will covid last?</td>\n",
       "    </tr>\n",
       "  </tbody>\n",
       "</table>\n",
       "</div>"
      ],
      "text/plain": [
       "                                            selftext           subreddit  \\\n",
       "0                                                NaN  MichiganWolverines   \n",
       "1  I'm coming for the Washington game and I'm won...  MichiganWolverines   \n",
       "2  Coming up from cincy for the western game/Labo...  MichiganWolverines   \n",
       "3                                                NaN  MichiganWolverines   \n",
       "4  Whenever people ask me how long covid will las...  MichiganWolverines   \n",
       "\n",
       "                                               title  \n",
       "0  [Lance Lysowski] Breaking: Sabres No. 1 draft ...  \n",
       "1                             Golf Course Tailgating  \n",
       "2                                    Western weekend  \n",
       "3              The big house at night, long exposure  \n",
       "4                          How long will covid last?  "
      ]
     },
     "execution_count": 4,
     "metadata": {},
     "output_type": "execute_result"
    }
   ],
   "source": [
    "df = pd.concat([df_mich, df_osu])\n",
    "print(df.shape)\n",
    "df.head()"
   ]
  },
  {
   "cell_type": "markdown",
   "id": "2d43604a",
   "metadata": {},
   "source": [
    "### Data Cleaning"
   ]
  },
  {
   "cell_type": "code",
   "execution_count": 5,
   "id": "841bf6c9",
   "metadata": {},
   "outputs": [
    {
     "name": "stdout",
     "output_type": "stream",
     "text": [
      "<class 'pandas.core.frame.DataFrame'>\n",
      "Int64Index: 2000 entries, 0 to 999\n",
      "Data columns (total 3 columns):\n",
      " #   Column     Non-Null Count  Dtype \n",
      "---  ------     --------------  ----- \n",
      " 0   selftext   718 non-null    object\n",
      " 1   subreddit  2000 non-null   object\n",
      " 2   title      2000 non-null   object\n",
      "dtypes: object(3)\n",
      "memory usage: 62.5+ KB\n"
     ]
    }
   ],
   "source": [
    "df.info()"
   ]
  },
  {
   "cell_type": "code",
   "execution_count": 6,
   "id": "1d7f65e7",
   "metadata": {},
   "outputs": [
    {
     "name": "stdout",
     "output_type": "stream",
     "text": [
      "(2000, 4)\n"
     ]
    },
    {
     "data": {
      "text/html": [
       "<div>\n",
       "<style scoped>\n",
       "    .dataframe tbody tr th:only-of-type {\n",
       "        vertical-align: middle;\n",
       "    }\n",
       "\n",
       "    .dataframe tbody tr th {\n",
       "        vertical-align: top;\n",
       "    }\n",
       "\n",
       "    .dataframe thead th {\n",
       "        text-align: right;\n",
       "    }\n",
       "</style>\n",
       "<table border=\"1\" class=\"dataframe\">\n",
       "  <thead>\n",
       "    <tr style=\"text-align: right;\">\n",
       "      <th></th>\n",
       "      <th>selftext</th>\n",
       "      <th>subreddit</th>\n",
       "      <th>title</th>\n",
       "      <th>post</th>\n",
       "    </tr>\n",
       "  </thead>\n",
       "  <tbody>\n",
       "    <tr>\n",
       "      <th>0</th>\n",
       "      <td></td>\n",
       "      <td>MichiganWolverines</td>\n",
       "      <td>[Lance Lysowski] Breaking: Sabres No. 1 draft ...</td>\n",
       "      <td>[Lance Lysowski] Breaking: Sabres No. 1 draft ...</td>\n",
       "    </tr>\n",
       "    <tr>\n",
       "      <th>1</th>\n",
       "      <td>I'm coming for the Washington game and I'm won...</td>\n",
       "      <td>MichiganWolverines</td>\n",
       "      <td>Golf Course Tailgating</td>\n",
       "      <td>Golf Course Tailgating I'm coming for the Wash...</td>\n",
       "    </tr>\n",
       "    <tr>\n",
       "      <th>2</th>\n",
       "      <td>Coming up from cincy for the western game/Labo...</td>\n",
       "      <td>MichiganWolverines</td>\n",
       "      <td>Western weekend</td>\n",
       "      <td>Western weekend Coming up from cincy for the w...</td>\n",
       "    </tr>\n",
       "    <tr>\n",
       "      <th>3</th>\n",
       "      <td></td>\n",
       "      <td>MichiganWolverines</td>\n",
       "      <td>The big house at night, long exposure</td>\n",
       "      <td>The big house at night, long exposure</td>\n",
       "    </tr>\n",
       "    <tr>\n",
       "      <th>4</th>\n",
       "      <td>Whenever people ask me how long covid will las...</td>\n",
       "      <td>MichiganWolverines</td>\n",
       "      <td>How long will covid last?</td>\n",
       "      <td>How long will covid last? Whenever people ask ...</td>\n",
       "    </tr>\n",
       "  </tbody>\n",
       "</table>\n",
       "</div>"
      ],
      "text/plain": [
       "                                            selftext           subreddit  \\\n",
       "0                                                     MichiganWolverines   \n",
       "1  I'm coming for the Washington game and I'm won...  MichiganWolverines   \n",
       "2  Coming up from cincy for the western game/Labo...  MichiganWolverines   \n",
       "3                                                     MichiganWolverines   \n",
       "4  Whenever people ask me how long covid will las...  MichiganWolverines   \n",
       "\n",
       "                                               title  \\\n",
       "0  [Lance Lysowski] Breaking: Sabres No. 1 draft ...   \n",
       "1                             Golf Course Tailgating   \n",
       "2                                    Western weekend   \n",
       "3              The big house at night, long exposure   \n",
       "4                          How long will covid last?   \n",
       "\n",
       "                                                post  \n",
       "0  [Lance Lysowski] Breaking: Sabres No. 1 draft ...  \n",
       "1  Golf Course Tailgating I'm coming for the Wash...  \n",
       "2  Western weekend Coming up from cincy for the w...  \n",
       "3             The big house at night, long exposure   \n",
       "4  How long will covid last? Whenever people ask ...  "
      ]
     },
     "execution_count": 6,
     "metadata": {},
     "output_type": "execute_result"
    }
   ],
   "source": [
    "df.fillna('', inplace = True)\n",
    "df['post'] = df['title'] + ' ' + df['selftext']\n",
    "print(df.shape)\n",
    "df.head()"
   ]
  },
  {
   "cell_type": "code",
   "execution_count": null,
   "id": "2450f5c6",
   "metadata": {},
   "outputs": [],
   "source": []
  }
 ],
 "metadata": {
  "kernelspec": {
   "display_name": "Python 3",
   "language": "python",
   "name": "python3"
  },
  "language_info": {
   "codemirror_mode": {
    "name": "ipython",
    "version": 3
   },
   "file_extension": ".py",
   "mimetype": "text/x-python",
   "name": "python",
   "nbconvert_exporter": "python",
   "pygments_lexer": "ipython3",
   "version": "3.8.8"
  }
 },
 "nbformat": 4,
 "nbformat_minor": 5
}
