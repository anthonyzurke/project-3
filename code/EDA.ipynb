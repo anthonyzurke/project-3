{
 "cells": [
  {
   "cell_type": "markdown",
   "id": "3db75931",
   "metadata": {},
   "source": [
    "### Libraries"
   ]
  },
  {
   "cell_type": "code",
   "execution_count": 1,
   "id": "4fe17729",
   "metadata": {},
   "outputs": [],
   "source": [
    "import numpy as np\n",
    "import pandas as pd\n",
    "import matplotlib.pyplot as plt\n",
    "import seaborn as sns"
   ]
  },
  {
   "cell_type": "markdown",
   "id": "249a24da",
   "metadata": {},
   "source": [
    "### Data"
   ]
  },
  {
   "cell_type": "code",
   "execution_count": 2,
   "id": "5f5b9c49",
   "metadata": {},
   "outputs": [
    {
     "name": "stdout",
     "output_type": "stream",
     "text": [
      "(1000, 3)\n"
     ]
    },
    {
     "data": {
      "text/html": [
       "<div>\n",
       "<style scoped>\n",
       "    .dataframe tbody tr th:only-of-type {\n",
       "        vertical-align: middle;\n",
       "    }\n",
       "\n",
       "    .dataframe tbody tr th {\n",
       "        vertical-align: top;\n",
       "    }\n",
       "\n",
       "    .dataframe thead th {\n",
       "        text-align: right;\n",
       "    }\n",
       "</style>\n",
       "<table border=\"1\" class=\"dataframe\">\n",
       "  <thead>\n",
       "    <tr style=\"text-align: right;\">\n",
       "      <th></th>\n",
       "      <th>selftext</th>\n",
       "      <th>subreddit</th>\n",
       "      <th>title</th>\n",
       "    </tr>\n",
       "  </thead>\n",
       "  <tbody>\n",
       "    <tr>\n",
       "      <th>0</th>\n",
       "      <td>NaN</td>\n",
       "      <td>CFB</td>\n",
       "      <td>AD Allen Greene: Auburn still planning on full...</td>\n",
       "    </tr>\n",
       "    <tr>\n",
       "      <th>1</th>\n",
       "      <td>Mine is 2015 Michigan State-Michigan.\\n\\nFor t...</td>\n",
       "      <td>CFB</td>\n",
       "      <td>Most fun road game you've attended?</td>\n",
       "    </tr>\n",
       "    <tr>\n",
       "      <th>2</th>\n",
       "      <td>[removed]</td>\n",
       "      <td>CFB</td>\n",
       "      <td>Best/cheapest way for canadian trying to watch</td>\n",
       "    </tr>\n",
       "    <tr>\n",
       "      <th>3</th>\n",
       "      <td>[removed]</td>\n",
       "      <td>CFB</td>\n",
       "      <td>Who are some of the best offensive coordinator...</td>\n",
       "    </tr>\n",
       "    <tr>\n",
       "      <th>4</th>\n",
       "      <td>Goooooood morning /r/CFB! I am your host and h...</td>\n",
       "      <td>CFB</td>\n",
       "      <td>Do you like rooting for the Underdog week in a...</td>\n",
       "    </tr>\n",
       "  </tbody>\n",
       "</table>\n",
       "</div>"
      ],
      "text/plain": [
       "                                            selftext subreddit  \\\n",
       "0                                                NaN       CFB   \n",
       "1  Mine is 2015 Michigan State-Michigan.\\n\\nFor t...       CFB   \n",
       "2                                          [removed]       CFB   \n",
       "3                                          [removed]       CFB   \n",
       "4  Goooooood morning /r/CFB! I am your host and h...       CFB   \n",
       "\n",
       "                                               title  \n",
       "0  AD Allen Greene: Auburn still planning on full...  \n",
       "1                Most fun road game you've attended?  \n",
       "2     Best/cheapest way for canadian trying to watch  \n",
       "3  Who are some of the best offensive coordinator...  \n",
       "4  Do you like rooting for the Underdog week in a...  "
      ]
     },
     "execution_count": 2,
     "metadata": {},
     "output_type": "execute_result"
    }
   ],
   "source": [
    "df_cfb = pd.read_csv('../datasets/subreddit_cfb', usecols = ['title', 'subreddit', 'selftext'])\n",
    "print(df_cfb.shape)\n",
    "df_cfb.head()"
   ]
  },
  {
   "cell_type": "code",
   "execution_count": 3,
   "id": "63545f49",
   "metadata": {},
   "outputs": [
    {
     "name": "stdout",
     "output_type": "stream",
     "text": [
      "(1000, 3)\n"
     ]
    },
    {
     "data": {
      "text/html": [
       "<div>\n",
       "<style scoped>\n",
       "    .dataframe tbody tr th:only-of-type {\n",
       "        vertical-align: middle;\n",
       "    }\n",
       "\n",
       "    .dataframe tbody tr th {\n",
       "        vertical-align: top;\n",
       "    }\n",
       "\n",
       "    .dataframe thead th {\n",
       "        text-align: right;\n",
       "    }\n",
       "</style>\n",
       "<table border=\"1\" class=\"dataframe\">\n",
       "  <thead>\n",
       "    <tr style=\"text-align: right;\">\n",
       "      <th></th>\n",
       "      <th>selftext</th>\n",
       "      <th>subreddit</th>\n",
       "      <th>title</th>\n",
       "    </tr>\n",
       "  </thead>\n",
       "  <tbody>\n",
       "    <tr>\n",
       "      <th>0</th>\n",
       "      <td>NaN</td>\n",
       "      <td>CollegeBasketball</td>\n",
       "      <td>Sister Jean Turns 102!</td>\n",
       "    </tr>\n",
       "    <tr>\n",
       "      <th>1</th>\n",
       "      <td>NaN</td>\n",
       "      <td>CollegeBasketball</td>\n",
       "      <td>#14 North Carolina 2021-22 Preview — Three-Man...</td>\n",
       "    </tr>\n",
       "    <tr>\n",
       "      <th>2</th>\n",
       "      <td>I would definitely watch. It'd be interesting ...</td>\n",
       "      <td>CollegeBasketball</td>\n",
       "      <td>Will CBB teams ever play OTE teams in an exhib...</td>\n",
       "    </tr>\n",
       "    <tr>\n",
       "      <th>3</th>\n",
       "      <td>I’ll do a general breakdown of the teams and h...</td>\n",
       "      <td>CollegeBasketball</td>\n",
       "      <td>My ACC preseason rankings and season overviews</td>\n",
       "    </tr>\n",
       "    <tr>\n",
       "      <th>4</th>\n",
       "      <td>https://www.indystar.com/story/news/crime/2021...</td>\n",
       "      <td>CollegeBasketball</td>\n",
       "      <td>Butler University Student And Basketball Team ...</td>\n",
       "    </tr>\n",
       "  </tbody>\n",
       "</table>\n",
       "</div>"
      ],
      "text/plain": [
       "                                            selftext          subreddit  \\\n",
       "0                                                NaN  CollegeBasketball   \n",
       "1                                                NaN  CollegeBasketball   \n",
       "2  I would definitely watch. It'd be interesting ...  CollegeBasketball   \n",
       "3  I’ll do a general breakdown of the teams and h...  CollegeBasketball   \n",
       "4  https://www.indystar.com/story/news/crime/2021...  CollegeBasketball   \n",
       "\n",
       "                                               title  \n",
       "0                             Sister Jean Turns 102!  \n",
       "1  #14 North Carolina 2021-22 Preview — Three-Man...  \n",
       "2  Will CBB teams ever play OTE teams in an exhib...  \n",
       "3     My ACC preseason rankings and season overviews  \n",
       "4  Butler University Student And Basketball Team ...  "
      ]
     },
     "execution_count": 3,
     "metadata": {},
     "output_type": "execute_result"
    }
   ],
   "source": [
    "df_bball = pd.read_csv('../datasets/subreddit_cbball', usecols = ['title', 'subreddit', 'selftext'])\n",
    "print(df_bball.shape)\n",
    "df_bball.head()"
   ]
  },
  {
   "cell_type": "code",
   "execution_count": 4,
   "id": "c1cfd6e8",
   "metadata": {},
   "outputs": [
    {
     "name": "stdout",
     "output_type": "stream",
     "text": [
      "(2000, 3)\n"
     ]
    },
    {
     "data": {
      "text/html": [
       "<div>\n",
       "<style scoped>\n",
       "    .dataframe tbody tr th:only-of-type {\n",
       "        vertical-align: middle;\n",
       "    }\n",
       "\n",
       "    .dataframe tbody tr th {\n",
       "        vertical-align: top;\n",
       "    }\n",
       "\n",
       "    .dataframe thead th {\n",
       "        text-align: right;\n",
       "    }\n",
       "</style>\n",
       "<table border=\"1\" class=\"dataframe\">\n",
       "  <thead>\n",
       "    <tr style=\"text-align: right;\">\n",
       "      <th></th>\n",
       "      <th>selftext</th>\n",
       "      <th>subreddit</th>\n",
       "      <th>title</th>\n",
       "    </tr>\n",
       "  </thead>\n",
       "  <tbody>\n",
       "    <tr>\n",
       "      <th>0</th>\n",
       "      <td>NaN</td>\n",
       "      <td>CFB</td>\n",
       "      <td>AD Allen Greene: Auburn still planning on full...</td>\n",
       "    </tr>\n",
       "    <tr>\n",
       "      <th>1</th>\n",
       "      <td>Mine is 2015 Michigan State-Michigan.\\n\\nFor t...</td>\n",
       "      <td>CFB</td>\n",
       "      <td>Most fun road game you've attended?</td>\n",
       "    </tr>\n",
       "    <tr>\n",
       "      <th>2</th>\n",
       "      <td>[removed]</td>\n",
       "      <td>CFB</td>\n",
       "      <td>Best/cheapest way for canadian trying to watch</td>\n",
       "    </tr>\n",
       "    <tr>\n",
       "      <th>3</th>\n",
       "      <td>[removed]</td>\n",
       "      <td>CFB</td>\n",
       "      <td>Who are some of the best offensive coordinator...</td>\n",
       "    </tr>\n",
       "    <tr>\n",
       "      <th>4</th>\n",
       "      <td>Goooooood morning /r/CFB! I am your host and h...</td>\n",
       "      <td>CFB</td>\n",
       "      <td>Do you like rooting for the Underdog week in a...</td>\n",
       "    </tr>\n",
       "  </tbody>\n",
       "</table>\n",
       "</div>"
      ],
      "text/plain": [
       "                                            selftext subreddit  \\\n",
       "0                                                NaN       CFB   \n",
       "1  Mine is 2015 Michigan State-Michigan.\\n\\nFor t...       CFB   \n",
       "2                                          [removed]       CFB   \n",
       "3                                          [removed]       CFB   \n",
       "4  Goooooood morning /r/CFB! I am your host and h...       CFB   \n",
       "\n",
       "                                               title  \n",
       "0  AD Allen Greene: Auburn still planning on full...  \n",
       "1                Most fun road game you've attended?  \n",
       "2     Best/cheapest way for canadian trying to watch  \n",
       "3  Who are some of the best offensive coordinator...  \n",
       "4  Do you like rooting for the Underdog week in a...  "
      ]
     },
     "execution_count": 4,
     "metadata": {},
     "output_type": "execute_result"
    }
   ],
   "source": [
    "df = pd.concat([df_cfb, df_bball])\n",
    "print(df.shape)\n",
    "df.head()"
   ]
  },
  {
   "cell_type": "markdown",
   "id": "2d43604a",
   "metadata": {},
   "source": [
    "### Data Cleaning"
   ]
  },
  {
   "cell_type": "code",
   "execution_count": 5,
   "id": "2f3b4bd2",
   "metadata": {},
   "outputs": [],
   "source": [
    "# College Football is 0 and College Basketball is 1\n",
    "df['subreddit'] = df['subreddit'].map({'CFB': 0, 'CollegeBasketball': 1})"
   ]
  },
  {
   "cell_type": "code",
   "execution_count": 6,
   "id": "841bf6c9",
   "metadata": {},
   "outputs": [
    {
     "name": "stdout",
     "output_type": "stream",
     "text": [
      "<class 'pandas.core.frame.DataFrame'>\n",
      "Int64Index: 2000 entries, 0 to 999\n",
      "Data columns (total 3 columns):\n",
      " #   Column     Non-Null Count  Dtype \n",
      "---  ------     --------------  ----- \n",
      " 0   selftext   991 non-null    object\n",
      " 1   subreddit  2000 non-null   int64 \n",
      " 2   title      2000 non-null   object\n",
      "dtypes: int64(1), object(2)\n",
      "memory usage: 62.5+ KB\n"
     ]
    }
   ],
   "source": [
    "df.info()"
   ]
  },
  {
   "cell_type": "code",
   "execution_count": 7,
   "id": "85eb0da4",
   "metadata": {},
   "outputs": [
    {
     "data": {
      "text/html": [
       "<div>\n",
       "<style scoped>\n",
       "    .dataframe tbody tr th:only-of-type {\n",
       "        vertical-align: middle;\n",
       "    }\n",
       "\n",
       "    .dataframe tbody tr th {\n",
       "        vertical-align: top;\n",
       "    }\n",
       "\n",
       "    .dataframe thead th {\n",
       "        text-align: right;\n",
       "    }\n",
       "</style>\n",
       "<table border=\"1\" class=\"dataframe\">\n",
       "  <thead>\n",
       "    <tr style=\"text-align: right;\">\n",
       "      <th></th>\n",
       "      <th>selftext</th>\n",
       "      <th>subreddit</th>\n",
       "      <th>title</th>\n",
       "    </tr>\n",
       "  </thead>\n",
       "  <tbody>\n",
       "    <tr>\n",
       "      <th>3</th>\n",
       "      <td>[removed]</td>\n",
       "      <td>0</td>\n",
       "      <td>Who are some of the best offensive coordinator...</td>\n",
       "    </tr>\n",
       "    <tr>\n",
       "      <th>5</th>\n",
       "      <td>[removed]</td>\n",
       "      <td>0</td>\n",
       "      <td>ELI5: why is the ACC/Big Ten/Pac-12 alliance t...</td>\n",
       "    </tr>\n",
       "    <tr>\n",
       "      <th>6</th>\n",
       "      <td>[removed]</td>\n",
       "      <td>0</td>\n",
       "      <td>16-Team Playoff Scenarios</td>\n",
       "    </tr>\n",
       "    <tr>\n",
       "      <th>8</th>\n",
       "      <td>NaN</td>\n",
       "      <td>0</td>\n",
       "      <td>Ryan Day names CJ Stroud as Ohio State Startin...</td>\n",
       "    </tr>\n",
       "    <tr>\n",
       "      <th>9</th>\n",
       "      <td>NaN</td>\n",
       "      <td>0</td>\n",
       "      <td>OSU Football announces CJ Stroud as the starti...</td>\n",
       "    </tr>\n",
       "    <tr>\n",
       "      <th>...</th>\n",
       "      <td>...</td>\n",
       "      <td>...</td>\n",
       "      <td>...</td>\n",
       "    </tr>\n",
       "    <tr>\n",
       "      <th>995</th>\n",
       "      <td>NaN</td>\n",
       "      <td>1</td>\n",
       "      <td>This is the newest project of him?</td>\n",
       "    </tr>\n",
       "    <tr>\n",
       "      <th>996</th>\n",
       "      <td>[removed]</td>\n",
       "      <td>1</td>\n",
       "      <td>Who was it that hit the game winner in the fin...</td>\n",
       "    </tr>\n",
       "    <tr>\n",
       "      <th>997</th>\n",
       "      <td>NaN</td>\n",
       "      <td>1</td>\n",
       "      <td>Easy Money !!</td>\n",
       "    </tr>\n",
       "    <tr>\n",
       "      <th>998</th>\n",
       "      <td>NaN</td>\n",
       "      <td>1</td>\n",
       "      <td>[Goodman] Marquette transfer Dawson Garcia tol...</td>\n",
       "    </tr>\n",
       "    <tr>\n",
       "      <th>999</th>\n",
       "      <td>NaN</td>\n",
       "      <td>1</td>\n",
       "      <td>[Jon Rothstein] Dawson Garcia tells me that he...</td>\n",
       "    </tr>\n",
       "  </tbody>\n",
       "</table>\n",
       "<p>1231 rows × 3 columns</p>\n",
       "</div>"
      ],
      "text/plain": [
       "      selftext  subreddit                                              title\n",
       "3    [removed]          0  Who are some of the best offensive coordinator...\n",
       "5    [removed]          0  ELI5: why is the ACC/Big Ten/Pac-12 alliance t...\n",
       "6    [removed]          0                          16-Team Playoff Scenarios\n",
       "8          NaN          0  Ryan Day names CJ Stroud as Ohio State Startin...\n",
       "9          NaN          0  OSU Football announces CJ Stroud as the starti...\n",
       "..         ...        ...                                                ...\n",
       "995        NaN          1                 This is the newest project of him?\n",
       "996  [removed]          1  Who was it that hit the game winner in the fin...\n",
       "997        NaN          1                                      Easy Money !!\n",
       "998        NaN          1  [Goodman] Marquette transfer Dawson Garcia tol...\n",
       "999        NaN          1  [Jon Rothstein] Dawson Garcia tells me that he...\n",
       "\n",
       "[1231 rows x 3 columns]"
      ]
     },
     "execution_count": 7,
     "metadata": {},
     "output_type": "execute_result"
    }
   ],
   "source": [
    "df[df.duplicated(subset = 'selftext')]"
   ]
  },
  {
   "cell_type": "code",
   "execution_count": 8,
   "id": "1d7f65e7",
   "metadata": {},
   "outputs": [
    {
     "name": "stdout",
     "output_type": "stream",
     "text": [
      "(2000, 6)\n"
     ]
    },
    {
     "data": {
      "text/html": [
       "<div>\n",
       "<style scoped>\n",
       "    .dataframe tbody tr th:only-of-type {\n",
       "        vertical-align: middle;\n",
       "    }\n",
       "\n",
       "    .dataframe tbody tr th {\n",
       "        vertical-align: top;\n",
       "    }\n",
       "\n",
       "    .dataframe thead th {\n",
       "        text-align: right;\n",
       "    }\n",
       "</style>\n",
       "<table border=\"1\" class=\"dataframe\">\n",
       "  <thead>\n",
       "    <tr style=\"text-align: right;\">\n",
       "      <th></th>\n",
       "      <th>selftext</th>\n",
       "      <th>subreddit</th>\n",
       "      <th>title</th>\n",
       "      <th>post</th>\n",
       "      <th>post_length</th>\n",
       "      <th>post_word_count</th>\n",
       "    </tr>\n",
       "  </thead>\n",
       "  <tbody>\n",
       "    <tr>\n",
       "      <th>0</th>\n",
       "      <td></td>\n",
       "      <td>0</td>\n",
       "      <td>AD Allen Greene: Auburn still planning on full...</td>\n",
       "      <td>AD Allen Greene: Auburn still planning on full...</td>\n",
       "      <td>115</td>\n",
       "      <td>17</td>\n",
       "    </tr>\n",
       "    <tr>\n",
       "      <th>1</th>\n",
       "      <td>Mine is 2015 Michigan State-Michigan.\\n\\nFor t...</td>\n",
       "      <td>0</td>\n",
       "      <td>Most fun road game you've attended?</td>\n",
       "      <td>Most fun road game you've attended? Mine is 20...</td>\n",
       "      <td>311</td>\n",
       "      <td>58</td>\n",
       "    </tr>\n",
       "    <tr>\n",
       "      <th>2</th>\n",
       "      <td>[removed]</td>\n",
       "      <td>0</td>\n",
       "      <td>Best/cheapest way for canadian trying to watch</td>\n",
       "      <td>Best/cheapest way for canadian trying to watch...</td>\n",
       "      <td>56</td>\n",
       "      <td>8</td>\n",
       "    </tr>\n",
       "    <tr>\n",
       "      <th>3</th>\n",
       "      <td>[removed]</td>\n",
       "      <td>0</td>\n",
       "      <td>Who are some of the best offensive coordinator...</td>\n",
       "      <td>Who are some of the best offensive coordinator...</td>\n",
       "      <td>97</td>\n",
       "      <td>14</td>\n",
       "    </tr>\n",
       "    <tr>\n",
       "      <th>4</th>\n",
       "      <td>Goooooood morning /r/CFB! I am your host and h...</td>\n",
       "      <td>0</td>\n",
       "      <td>Do you like rooting for the Underdog week in a...</td>\n",
       "      <td>Do you like rooting for the Underdog week in a...</td>\n",
       "      <td>1676</td>\n",
       "      <td>292</td>\n",
       "    </tr>\n",
       "  </tbody>\n",
       "</table>\n",
       "</div>"
      ],
      "text/plain": [
       "                                            selftext  subreddit  \\\n",
       "0                                                             0   \n",
       "1  Mine is 2015 Michigan State-Michigan.\\n\\nFor t...          0   \n",
       "2                                          [removed]          0   \n",
       "3                                          [removed]          0   \n",
       "4  Goooooood morning /r/CFB! I am your host and h...          0   \n",
       "\n",
       "                                               title  \\\n",
       "0  AD Allen Greene: Auburn still planning on full...   \n",
       "1                Most fun road game you've attended?   \n",
       "2     Best/cheapest way for canadian trying to watch   \n",
       "3  Who are some of the best offensive coordinator...   \n",
       "4  Do you like rooting for the Underdog week in a...   \n",
       "\n",
       "                                                post  post_length  \\\n",
       "0  AD Allen Greene: Auburn still planning on full...          115   \n",
       "1  Most fun road game you've attended? Mine is 20...          311   \n",
       "2  Best/cheapest way for canadian trying to watch...           56   \n",
       "3  Who are some of the best offensive coordinator...           97   \n",
       "4  Do you like rooting for the Underdog week in a...         1676   \n",
       "\n",
       "   post_word_count  \n",
       "0               17  \n",
       "1               58  \n",
       "2                8  \n",
       "3               14  \n",
       "4              292  "
      ]
     },
     "execution_count": 8,
     "metadata": {},
     "output_type": "execute_result"
    }
   ],
   "source": [
    "df.fillna('', inplace = True)\n",
    "df['post'] = df['title'] + ' ' + df['selftext']\n",
    "df['post_length'] = df['post'].str.len()\n",
    "df['post_word_count'] = df['post'].str.count(' ') + 1\n",
    "print(df.shape)\n",
    "df.head()"
   ]
  },
  {
   "cell_type": "code",
   "execution_count": 9,
   "id": "2450f5c6",
   "metadata": {},
   "outputs": [
    {
     "data": {
      "text/plain": [
       "670    \"Alabama had only SIX 4th downs in quarters 1-...\n",
       "418    \"And the Ball is Free\" is the greatest sports ...\n",
       "567                         \"Back to my playing weight.\"\n",
       "1      #14 North Carolina 2021-22 Preview — Three-Man...\n",
       "14          #15 Oregon 2021-22 Preview — Three-Man-Weave\n",
       "                             ...                        \n",
       "347    यथार्थ_कबीर_पंथ 600 years ago from today, God ...\n",
       "636    “Gators forward Samson Ruzhentsev is no longer...\n",
       "202                                            오즈코리아먹튀제보\n",
       "989    ￼ Adam Schefter - Florida State announced the ...\n",
       "268                                                    😏\n",
       "Name: title, Length: 2000, dtype: object"
      ]
     },
     "execution_count": 9,
     "metadata": {},
     "output_type": "execute_result"
    }
   ],
   "source": [
    "df['title'].sort_values()"
   ]
  },
  {
   "cell_type": "code",
   "execution_count": 10,
   "id": "46bace1e",
   "metadata": {},
   "outputs": [
    {
     "data": {
      "text/plain": [
       "0      AD Allen Greene: Auburn still planning on full...\n",
       "1                    Most fun road game you've attended?\n",
       "2         Best/cheapest way for canadian trying to watch\n",
       "3      Who are some of the best offensive coordinator...\n",
       "4      Do you like rooting for the Underdog week in a...\n",
       "                             ...                        \n",
       "995                   This is the newest project of him?\n",
       "996    Who was it that hit the game winner in the fin...\n",
       "997                                        Easy Money !!\n",
       "998    [Goodman] Marquette transfer Dawson Garcia tol...\n",
       "999    [Jon Rothstein] Dawson Garcia tells me that he...\n",
       "Name: title, Length: 1999, dtype: object"
      ]
     },
     "execution_count": 10,
     "metadata": {},
     "output_type": "execute_result"
    }
   ],
   "source": [
    "df['title'][~df['title'].str.isnumeric()]"
   ]
  },
  {
   "cell_type": "code",
   "execution_count": null,
   "id": "ae4997d1",
   "metadata": {},
   "outputs": [],
   "source": []
  }
 ],
 "metadata": {
  "kernelspec": {
   "display_name": "Python 3",
   "language": "python",
   "name": "python3"
  },
  "language_info": {
   "codemirror_mode": {
    "name": "ipython",
    "version": 3
   },
   "file_extension": ".py",
   "mimetype": "text/x-python",
   "name": "python",
   "nbconvert_exporter": "python",
   "pygments_lexer": "ipython3",
   "version": "3.8.8"
  }
 },
 "nbformat": 4,
 "nbformat_minor": 5
}
